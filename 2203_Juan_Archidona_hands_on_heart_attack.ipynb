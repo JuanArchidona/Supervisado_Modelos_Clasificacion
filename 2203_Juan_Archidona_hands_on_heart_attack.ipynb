{
  "nbformat": 4,
  "nbformat_minor": 0,
  "metadata": {
    "colab": {
      "provenance": [],
      "toc_visible": true
    },
    "kernelspec": {
      "name": "python3",
      "display_name": "Python 3"
    },
    "language_info": {
      "name": "python"
    }
  },
  "cells": [
    {
      "cell_type": "markdown",
      "source": [
        "<center> <img src=https://i.imgur.com/0TSSaqL.png width=\"550\"> </center>\n",
        "*\n",
        "<center> <h3> Module 5: Supervised Learning </h3> </center>\n",
        "<center> <h4> Hands-on: Heart Attack </h4> </center>\n",
        "*"
      ],
      "metadata": {
        "id": "b84GYH2rNcg-"
      }
    },
    {
      "cell_type": "markdown",
      "source": [
        "###**WORKING ENVIRONMENT SET UP**"
      ],
      "metadata": {
        "id": "CThb8ZqGOOsu"
      }
    },
    {
      "cell_type": "code",
      "execution_count": null,
      "metadata": {
        "id": "3LrFKqLKNTae"
      },
      "outputs": [],
      "source": [
        "# Data manipulation\n",
        "import pandas as pd\n",
        "import numpy as np\n",
        "\n",
        "# Plotting\n",
        "import matplotlib.pyplot as plt\n",
        "import seaborn as sns\n",
        "%matplotlib inline\n",
        "\n",
        "# ML Libraries\n",
        "from sklearn.metrics import classification_report,confusion_matrix\n",
        "from sklearn.preprocessing import StandardScaler\n",
        "from sklearn.model_selection import train_test_split\n",
        "import sklearn.metrics as metrics\n",
        "\n",
        "from sklearn.linear_model import LogisticRegression\n",
        "from sklearn.naive_bayes import GaussianNB\n",
        "from sklearn.neighbors import KNeighborsClassifier\n",
        "\n",
        "from sklearn.tree import DecisionTreeClassifier\n",
        "from sklearn.ensemble import RandomForestClassifier\n",
        "from sklearn.ensemble import AdaBoostClassifier\n",
        "from xgboost import XGBClassifier \n",
        "from sklearn.model_selection import GridSearchCV\n",
        "\n",
        "\n",
        "# Tree Visualization\n",
        "from IPython.display import Image  \n",
        "from sklearn.tree import export_graphviz\n",
        "import pydot \n",
        "\n",
        "# Save model / deployment\n",
        "import pickle\n",
        "import sys\n"
      ]
    },
    {
      "cell_type": "markdown",
      "source": [
        "## 1.- Load Data"
      ],
      "metadata": {
        "id": "2Uka-VtAOjit"
      }
    },
    {
      "cell_type": "markdown",
      "source": [
        "Based on data from public databases, such as the MIT-BIH Malignant Ventricular Arrhythmia database (VFDB), the Creighton University Ventricular Tachycardia database (CUDB) containing a selection of long-term Holter ECG recording, we computed a combination of 30 previously defined ECG features. The aim of this study is to explore the differences in the detection of Sh rhythms using different classification algorithms. \n",
        "\n",
        "\n",
        "### **Description**\n",
        "\n",
        "**Temporal features** to characterize the amplitude, slope, sample distribution or heart rate of the rhythm. \n",
        "\n",
        "* TCI = threshold crossing interval \n",
        "\n",
        "* TCSC = threshold crossing sample count \n",
        "\n",
        "* Exp = standard exponential\n",
        "\n",
        "* Expmod = modified exponential \n",
        "\n",
        "* MAV = mean absolute value\n",
        "\n",
        "* count1 \n",
        "\n",
        "* count2 \n",
        "\n",
        "* count3\n",
        "\n",
        "* x1\n",
        "\n",
        "* x2\n",
        "\n",
        "* bCP\n",
        "\n",
        "**Spectral features** to quantify spectral concentration, normalized spectral moments or the rela- tive power content in different frequency bands.\n",
        "\n",
        "* vFleak = VF filter\n",
        "\n",
        "* M\n",
        "\n",
        "* A1\n",
        "\n",
        "* A2\n",
        "\n",
        "* A3\n",
        "\n",
        "* x3\n",
        "\n",
        "* x4\n",
        "\n",
        "* x5\n",
        "\n",
        "* bWT\n",
        "\n",
        "**Time-frequency features**\n",
        "\n",
        "* Li = The Li feature based on the wavelet analysis of the ECG.\n",
        "\n",
        "**Complexity features** The most representative measures of the complexity of the ECG\n",
        "\n",
        "* CM = complexity measure\n",
        "\n",
        "* CVbin = covariance\n",
        "\n",
        "* abin = area\n",
        "\n",
        "* Frqbin = frequency\n",
        "\n",
        "* Kurt = Kurtosis of a binary signal extracted from the ECG\n",
        "\n",
        "* PSR = The phase space recon- struction \n",
        "\n",
        "* HILB = Hilbert transform\n",
        "\n",
        "* SamEn = Sample entropy"
      ],
      "metadata": {
        "id": "s-ovwdHXM8Ff"
      }
    },
    {
      "cell_type": "code",
      "source": [
        "!gdown https://drive.google.com/uc?id=1-HawKyt8oVxSubWM2958xkZEu5sCgY8Y\n",
        "# https://drive.google.com/file/d/1-HawKyt8oVxSubWM2958xkZEu5sCgY8Y/view?usp=sharing"
      ],
      "metadata": {
        "id": "c7W7sreyOscZ",
        "colab": {
          "base_uri": "https://localhost:8080/"
        },
        "outputId": "504abe3c-1bc0-45a3-e91d-48ed1f211755"
      },
      "execution_count": null,
      "outputs": [
        {
          "output_type": "stream",
          "name": "stdout",
          "text": [
            "Downloading...\n",
            "From: https://drive.google.com/uc?id=1-HawKyt8oVxSubWM2958xkZEu5sCgY8Y\n",
            "To: /content/heart_train.csv\n",
            "\r  0% 0.00/784k [00:00<?, ?B/s]\r100% 784k/784k [00:00<00:00, 89.3MB/s]\n"
          ]
        }
      ]
    },
    {
      "cell_type": "code",
      "source": [
        "data = pd.read_csv('heart_train.csv')"
      ],
      "metadata": {
        "id": "bPHspiEtNBq3"
      },
      "execution_count": null,
      "outputs": []
    },
    {
      "cell_type": "code",
      "source": [
        "data.columns"
      ],
      "metadata": {
        "id": "v2p_4TI5hkG6",
        "colab": {
          "base_uri": "https://localhost:8080/"
        },
        "outputId": "f5357330-6ad1-49bb-9ab5-cc65a27c6709"
      },
      "execution_count": null,
      "outputs": [
        {
          "output_type": "execute_result",
          "data": {
            "text/plain": [
              "Index(['TCI', 'TCSC', 'exp', 'expmod', 'cm', 'cvbin', 'frqbin', 'abin', 'kurt',\n",
              "       'vfleak', 'M', 'A1', 'A2', 'A3', 'mav', 'psr', 'hilb', 'SamEn', 'x3',\n",
              "       'x4', 'x5', 'x1', 'x2', 'bCP', 'bWT', 'bW', 'Li', 'count1', 'count2',\n",
              "       'count3', 'VF', 'Id'],\n",
              "      dtype='object')"
            ]
          },
          "metadata": {},
          "execution_count": 4
        }
      ]
    },
    {
      "cell_type": "code",
      "source": [
        "sns.countplot(data['VF']);"
      ],
      "metadata": {
        "colab": {
          "base_uri": "https://localhost:8080/",
          "height": 335
        },
        "id": "bBHd6eKNpNzo",
        "outputId": "c45933e0-36d9-4123-a72c-65300753da9e"
      },
      "execution_count": null,
      "outputs": [
        {
          "output_type": "stream",
          "name": "stderr",
          "text": [
            "/usr/local/lib/python3.7/dist-packages/seaborn/_decorators.py:43: FutureWarning: Pass the following variable as a keyword arg: x. From version 0.12, the only valid positional argument will be `data`, and passing other arguments without an explicit keyword will result in an error or misinterpretation.\n",
            "  FutureWarning\n"
          ]
        },
        {
          "output_type": "display_data",
          "data": {
            "text/plain": [
              "<Figure size 432x288 with 1 Axes>"
            ],
            "image/png": "[encoded data removed]"
          },
          "metadata": {
            "needs_background": "light"
          }
        }
      ]
    },
    {
      "cell_type": "markdown",
      "source": [
        "Observamos un dataset bastante desbalanceado en cuanto a la proporción de los resultados de la salida. "
      ],
      "metadata": {
        "id": "6DvyMs4kpjKa"
      }
    },
    {
      "cell_type": "markdown",
      "source": [
        "## 2.- Exploratory Data Analysis (Data Understanding / Descriptive Analysis)"
      ],
      "metadata": {
        "id": "UsE5hDEmSqAE"
      }
    },
    {
      "cell_type": "code",
      "source": [
        "data = data.drop('Id',axis=1)\n",
        "data.head()"
      ],
      "metadata": {
        "id": "eYACIbudSr0R",
        "colab": {
          "base_uri": "https://localhost:8080/",
          "height": 235
        },
        "outputId": "c3848123-c317-48a2-fe0b-a8c5925cfea7"
      },
      "execution_count": null,
      "outputs": [
        {
          "output_type": "execute_result",
          "data": {
            "text/plain": [
              "      TCI    TCSC  exp  expmod       cm    cvbin  frqbin  abin    kurt  \\\n",
              "0  1055.8  4.7333   90      60  0.19932  0.22920    3.00   645  20.331   \n",
              "1  1084.0  3.1333   75      45  0.15945  0.23879    3.00   607  22.517   \n",
              "2  1084.2  3.1333   75      45  0.14949  0.24952    2.75   527  23.421   \n",
              "3  1084.4  4.8000   90      60  0.16942  0.24267    3.25   587  19.999   \n",
              "4  1086.2  4.9333   90      60  0.13952  0.23631    2.75   618  19.040   \n",
              "\n",
              "    vfleak  ...       x1       x2    bCP       bWT      bW      Li  count1  \\\n",
              "0  0.83436  ...  0.43245  0.14227  0.918  0.027611  7.6904  15.452   14.50   \n",
              "1  0.82827  ...  0.46083  0.14602  0.912  0.024376  7.6904  22.162   16.25   \n",
              "2  0.81930  ...  0.46989  0.12867  0.924  0.030298  7.5073  15.159   12.75   \n",
              "3  0.82824  ...  0.46194  0.14085  0.922  0.030700  7.5684  12.685   15.75   \n",
              "4  0.82227  ...  0.46280  0.12942  0.906  0.020175  7.5073  18.945   16.00   \n",
              "\n",
              "   count2  count3  VF  \n",
              "0   61.00  4.1044   0  \n",
              "1   57.50  4.3208   0  \n",
              "2   51.75  3.0232   0  \n",
              "3   59.25  4.3658   0  \n",
              "4   58.50  4.3636   0  \n",
              "\n",
              "[5 rows x 31 columns]"
            ],
            "text/html": [
              "\n",
              "  <div id=\"df-68175d99-a5a2-4b4f-92db-4bb6163e9133\">\n",
              "    <div class=\"colab-df-container\">\n",
              "      <div>\n",
              "<style scoped>\n",
              "    .dataframe tbody tr th:only-of-type {\n",
              "        vertical-align: middle;\n",
              "    }\n",
              "\n",
              "    .dataframe tbody tr th {\n",
              "        vertical-align: top;\n",
              "    }\n",
              "\n",
              "    .dataframe thead th {\n",
              "        text-align: right;\n",
              "    }\n",
              "</style>\n",
              "<table border=\"1\" class=\"dataframe\">\n",
              "  <thead>\n",
              "    <tr style=\"text-align: right;\">\n",
              "      <th></th>\n",
              "      <th>TCI</th>\n",
              "      <th>TCSC</th>\n",
              "      <th>exp</th>\n",
              "      <th>expmod</th>\n",
              "      <th>cm</th>\n",
              "      <th>cvbin</th>\n",
              "      <th>frqbin</th>\n",
              "      <th>abin</th>\n",
              "      <th>kurt</th>\n",
              "      <th>vfleak</th>\n",
              "      <th>...</th>\n",
              "      <th>x1</th>\n",
              "      <th>x2</th>\n",
              "      <th>bCP</th>\n",
              "      <th>bWT</th>\n",
              "      <th>bW</th>\n",
              "      <th>Li</th>\n",
              "      <th>count1</th>\n",
              "      <th>count2</th>\n",
              "      <th>count3</th>\n",
              "      <th>VF</th>\n",
              "    </tr>\n",
              "  </thead>\n",
              "  <tbody>\n",
              "    <tr>\n",
              "      <th>0</th>\n",
              "      <td>1055.8</td>\n",
              "      <td>4.7333</td>\n",
              "      <td>90</td>\n",
              "      <td>60</td>\n",
              "      <td>0.19932</td>\n",
              "      <td>0.22920</td>\n",
              "      <td>3.00</td>\n",
              "      <td>645</td>\n",
              "      <td>20.331</td>\n",
              "      <td>0.83436</td>\n",
              "      <td>...</td>\n",
              "      <td>0.43245</td>\n",
              "      <td>0.14227</td>\n",
              "      <td>0.918</td>\n",
              "      <td>0.027611</td>\n",
              "      <td>7.6904</td>\n",
              "      <td>15.452</td>\n",
              "      <td>14.50</td>\n",
              "      <td>61.00</td>\n",
              "      <td>4.1044</td>\n",
              "      <td>0</td>\n",
              "    </tr>\n",
              "    <tr>\n",
              "      <th>1</th>\n",
              "      <td>1084.0</td>\n",
              "      <td>3.1333</td>\n",
              "      <td>75</td>\n",
              "      <td>45</td>\n",
              "      <td>0.15945</td>\n",
              "      <td>0.23879</td>\n",
              "      <td>3.00</td>\n",
              "      <td>607</td>\n",
              "      <td>22.517</td>\n",
              "      <td>0.82827</td>\n",
              "      <td>...</td>\n",
              "      <td>0.46083</td>\n",
              "      <td>0.14602</td>\n",
              "      <td>0.912</td>\n",
              "      <td>0.024376</td>\n",
              "      <td>7.6904</td>\n",
              "      <td>22.162</td>\n",
              "      <td>16.25</td>\n",
              "      <td>57.50</td>\n",
              "      <td>4.3208</td>\n",
              "      <td>0</td>\n",
              "    </tr>\n",
              "    <tr>\n",
              "      <th>2</th>\n",
              "      <td>1084.2</td>\n",
              "      <td>3.1333</td>\n",
              "      <td>75</td>\n",
              "      <td>45</td>\n",
              "      <td>0.14949</td>\n",
              "      <td>0.24952</td>\n",
              "      <td>2.75</td>\n",
              "      <td>527</td>\n",
              "      <td>23.421</td>\n",
              "      <td>0.81930</td>\n",
              "      <td>...</td>\n",
              "      <td>0.46989</td>\n",
              "      <td>0.12867</td>\n",
              "      <td>0.924</td>\n",
              "      <td>0.030298</td>\n",
              "      <td>7.5073</td>\n",
              "      <td>15.159</td>\n",
              "      <td>12.75</td>\n",
              "      <td>51.75</td>\n",
              "      <td>3.0232</td>\n",
              "      <td>0</td>\n",
              "    </tr>\n",
              "    <tr>\n",
              "      <th>3</th>\n",
              "      <td>1084.4</td>\n",
              "      <td>4.8000</td>\n",
              "      <td>90</td>\n",
              "      <td>60</td>\n",
              "      <td>0.16942</td>\n",
              "      <td>0.24267</td>\n",
              "      <td>3.25</td>\n",
              "      <td>587</td>\n",
              "      <td>19.999</td>\n",
              "      <td>0.82824</td>\n",
              "      <td>...</td>\n",
              "      <td>0.46194</td>\n",
              "      <td>0.14085</td>\n",
              "      <td>0.922</td>\n",
              "      <td>0.030700</td>\n",
              "      <td>7.5684</td>\n",
              "      <td>12.685</td>\n",
              "      <td>15.75</td>\n",
              "      <td>59.25</td>\n",
              "      <td>4.3658</td>\n",
              "      <td>0</td>\n",
              "    </tr>\n",
              "    <tr>\n",
              "      <th>4</th>\n",
              "      <td>1086.2</td>\n",
              "      <td>4.9333</td>\n",
              "      <td>90</td>\n",
              "      <td>60</td>\n",
              "      <td>0.13952</td>\n",
              "      <td>0.23631</td>\n",
              "      <td>2.75</td>\n",
              "      <td>618</td>\n",
              "      <td>19.040</td>\n",
              "      <td>0.82227</td>\n",
              "      <td>...</td>\n",
              "      <td>0.46280</td>\n",
              "      <td>0.12942</td>\n",
              "      <td>0.906</td>\n",
              "      <td>0.020175</td>\n",
              "      <td>7.5073</td>\n",
              "      <td>18.945</td>\n",
              "      <td>16.00</td>\n",
              "      <td>58.50</td>\n",
              "      <td>4.3636</td>\n",
              "      <td>0</td>\n",
              "    </tr>\n",
              "  </tbody>\n",
              "</table>\n",
              "<p>5 rows × 31 columns</p>\n",
              "</div>\n",
              "      <button class=\"colab-df-convert\" onclick=\"convertToInteractive('df-68175d99-a5a2-4b4f-92db-4bb6163e9133')\"\n",
              "              title=\"Convert this dataframe to an interactive table.\"\n",
              "              style=\"display:none;\">\n",
              "        \n",
              "  <svg xmlns=\"http://www.w3.org/2000/svg\" height=\"24px\"viewBox=\"0 0 24 24\"\n",
              "       width=\"24px\">\n",
              "    <path d=\"M0 0h24v24H0V0z\" fill=\"none\"/>\n",
              "    <path d=\"M18.56 5.44l.94 2.06.94-2.06 2.06-.94-2.06-.94-.94-2.06-.94 2.06-2.06.94zm-11 1L8.5 8.5l.94-2.06 2.06-.94-2.06-.94L8.5 2.5l-.94 2.06-2.06.94zm10 10l.94 2.06.94-2.06 2.06-.94-2.06-.94-.94-2.06-.94 2.06-2.06.94z\"/><path d=\"M17.41 7.96l-1.37-1.37c-.4-.4-.92-.59-1.43-.59-.52 0-1.04.2-1.43.59L10.3 9.45l-7.72 7.72c-.78.78-.78 2.05 0 2.83L4 21.41c.39.39.9.59 1.41.59.51 0 1.02-.2 1.41-.59l7.78-7.78 2.81-2.81c.8-.78.8-2.07 0-2.86zM5.41 20L4 18.59l7.72-7.72 1.47 1.35L5.41 20z\"/>\n",
              "  </svg>\n",
              "      </button>\n",
              "      \n",
              "  <style>\n",
              "    .colab-df-container {\n",
              "      display:flex;\n",
              "      flex-wrap:wrap;\n",
              "      gap: 12px;\n",
              "    }\n",
              "\n",
              "    .colab-df-convert {\n",
              "      background-color: #E8F0FE;\n",
              "      border: none;\n",
              "      border-radius: 50%;\n",
              "      cursor: pointer;\n",
              "      display: none;\n",
              "      fill: #1967D2;\n",
              "      height: 32px;\n",
              "      padding: 0 0 0 0;\n",
              "      width: 32px;\n",
              "    }\n",
              "\n",
              "    .colab-df-convert:hover {\n",
              "      background-color: #E2EBFA;\n",
              "      box-shadow: 0px 1px 2px rgba(60, 64, 67, 0.3), 0px 1px 3px 1px rgba(60, 64, 67, 0.15);\n",
              "      fill: #174EA6;\n",
              "    }\n",
              "\n",
              "    [theme=dark] .colab-df-convert {\n",
              "      background-color: #3B4455;\n",
              "      fill: #D2E3FC;\n",
              "    }\n",
              "\n",
              "    [theme=dark] .colab-df-convert:hover {\n",
              "      background-color: #434B5C;\n",
              "      box-shadow: 0px 1px 3px 1px rgba(0, 0, 0, 0.15);\n",
              "      filter: drop-shadow(0px 1px 2px rgba(0, 0, 0, 0.3));\n",
              "      fill: #FFFFFF;\n",
              "    }\n",
              "  </style>\n",
              "\n",
              "      <script>\n",
              "        const buttonEl =\n",
              "          document.querySelector('#df-68175d99-a5a2-4b4f-92db-4bb6163e9133 button.colab-df-convert');\n",
              "        buttonEl.style.display =\n",
              "          google.colab.kernel.accessAllowed ? 'block' : 'none';\n",
              "\n",
              "        async function convertToInteractive(key) {\n",
              "          const element = document.querySelector('#df-68175d99-a5a2-4b4f-92db-4bb6163e9133');\n",
              "          const dataTable =\n",
              "            await google.colab.kernel.invokeFunction('convertToInteractive',\n",
              "                                                     [key], {});\n",
              "          if (!dataTable) return;\n",
              "\n",
              "          const docLinkHtml = 'Like what you see? Visit the ' +\n",
              "            '<a target=\"_blank\" href=https://colab.research.google.com/notebooks/data_table.ipynb>data table notebook</a>'\n",
              "            + ' to learn more about interactive tables.';\n",
              "          element.innerHTML = '';\n",
              "          dataTable['output_type'] = 'display_data';\n",
              "          await google.colab.output.renderOutput(dataTable, element);\n",
              "          const docLink = document.createElement('div');\n",
              "          docLink.innerHTML = docLinkHtml;\n",
              "          element.appendChild(docLink);\n",
              "        }\n",
              "      </script>\n",
              "    </div>\n",
              "  </div>\n",
              "  "
            ]
          },
          "metadata": {},
          "execution_count": 6
        }
      ]
    },
    {
      "cell_type": "code",
      "source": [
        "data.describe().T"
      ],
      "metadata": {
        "colab": {
          "base_uri": "https://localhost:8080/",
          "height": 1000
        },
        "id": "5v-RWFTYqCM6",
        "outputId": "55020179-e374-4e74-9662-29b976dfa28f"
      },
      "execution_count": null,
      "outputs": [
        {
          "output_type": "execute_result",
          "data": {
            "text/plain": [
              "         count        mean         std         min         25%         50%  \\\n",
              "TCI     3701.0  471.866198  226.115977  126.050000  288.490000  427.440000   \n",
              "TCSC    3701.0   33.608038   19.578268    2.400000   18.533000   31.667000   \n",
              "exp     3701.0  114.674412   80.866060    0.000000   60.000000  120.000000   \n",
              "expmod  3701.0  154.713591   67.387537   15.000000  105.000000  150.000000   \n",
              "cm      3701.0    0.148846    0.053616    0.029897    0.109620    0.149490   \n",
              "cvbin   3701.0    0.190585    0.063989    0.011868    0.152810    0.220290   \n",
              "frqbin  3701.0    2.857674    1.264093    0.250000    1.750000    2.750000   \n",
              "abin    3701.0  706.009997  131.036367  500.000000  603.000000  673.000000   \n",
              "kurt    3701.0    4.241358    5.894151   -1.575500    0.254510    2.353000   \n",
              "vfleak  3701.0    0.652819    0.160932    0.091432    0.577460    0.689980   \n",
              "M       3701.0    2.305465    1.514611    0.780200    1.341200    1.706000   \n",
              "A1      3701.0    0.027965    0.023149    0.000000    0.007253    0.024204   \n",
              "A2      3701.0    0.330608    0.156552    0.063225    0.225410    0.317450   \n",
              "A3      3701.0    1.262882    0.866920    0.000000    0.527740    1.006300   \n",
              "mav     3701.0    0.438612    0.195718    0.085306    0.283430    0.412750   \n",
              "psr     3701.0    0.068713    0.020246    0.015000    0.053750    0.066875   \n",
              "hilb    3701.0    0.076666    0.023002    0.015625    0.059375    0.075000   \n",
              "SamEn   3701.0    0.174771    0.113756    0.017992    0.095917    0.139880   \n",
              "x3      3701.0    0.016273    0.034566    0.000001    0.000284    0.001843   \n",
              "x4      3701.0    9.505539    6.246278    1.000000    5.000000    7.000000   \n",
              "x5      3701.0    3.495026    1.582822    1.038100    2.137300    3.114300   \n",
              "x1      3701.0    0.569407    0.185417    0.033422    0.453790    0.543080   \n",
              "x2      3701.0    0.058327    0.065262    0.000245    0.012287    0.030189   \n",
              "bCP     3701.0    0.524874    0.253028    0.026000    0.322000    0.566000   \n",
              "bWT     3701.0    0.268547    0.175674    0.003579    0.110180    0.256950   \n",
              "bW      3701.0    4.472252    2.652527    0.305180    2.197300    4.211400   \n",
              "Li      3701.0   25.831812   20.444950    1.116300    8.583700   19.659000   \n",
              "count1  3701.0   28.800392   11.597555    8.750000   20.000000   26.000000   \n",
              "count2  3701.0   79.999865   14.523026   40.500000   69.000000   78.500000   \n",
              "count3  3701.0   15.171734   10.871336    2.131600    6.798400   11.605000   \n",
              "VF      3701.0    0.193461    0.395065    0.000000    0.000000    0.000000   \n",
              "\n",
              "               75%         max  \n",
              "TCI     592.840000  1568.20000  \n",
              "TCSC     48.200000    82.40000  \n",
              "exp     180.000000   480.00000  \n",
              "expmod  195.000000   420.00000  \n",
              "cm        0.189350     0.36873  \n",
              "cvbin     0.239630     0.25025  \n",
              "frqbin    3.750000     8.25000  \n",
              "abin    812.000000   988.00000  \n",
              "kurt      5.781000    66.12900  \n",
              "vfleak    0.765450     0.91446  \n",
              "M         2.826100     9.78610  \n",
              "A1        0.044149     0.11110  \n",
              "A2        0.392180     1.00480  \n",
              "A3        1.986500     3.27950  \n",
              "mav       0.574740     1.16300  \n",
              "psr       0.086875     0.10562  \n",
              "hilb      0.095000     0.11937  \n",
              "SamEn     0.209680     0.56991  \n",
              "x3        0.012480     0.34635  \n",
              "x4       12.000000    31.00000  \n",
              "x5        4.702000     9.95360  \n",
              "x1        0.678000     0.99570  \n",
              "x2        0.080555     0.36554  \n",
              "bCP       0.734000     0.96400  \n",
              "bWT       0.391410     0.95519  \n",
              "bW        6.347700    12.51200  \n",
              "Li       39.740000   106.13000  \n",
              "count1   36.000000    94.50000  \n",
              "count2   91.000000   128.50000  \n",
              "count3   21.674000    87.15000  \n",
              "VF        0.000000     1.00000  "
            ],
            "text/html": [
              "\n",
              "  <div id=\"df-a8117b38-34d8-4d14-8e28-b4ae5ddbdf1c\">\n",
              "    <div class=\"colab-df-container\">\n",
              "      <div>\n",
              "<style scoped>\n",
              "    .dataframe tbody tr th:only-of-type {\n",
              "        vertical-align: middle;\n",
              "    }\n",
              "\n",
              "    .dataframe tbody tr th {\n",
              "        vertical-align: top;\n",
              "    }\n",
              "\n",
              "    .dataframe thead th {\n",
              "        text-align: right;\n",
              "    }\n",
              "</style>\n",
              "<table border=\"1\" class=\"dataframe\">\n",
              "  <thead>\n",
              "    <tr style=\"text-align: right;\">\n",
              "      <th></th>\n",
              "      <th>count</th>\n",
              "      <th>mean</th>\n",
              "      <th>std</th>\n",
              "      <th>min</th>\n",
              "      <th>25%</th>\n",
              "      <th>50%</th>\n",
              "      <th>75%</th>\n",
              "      <th>max</th>\n",
              "    </tr>\n",
              "  </thead>\n",
              "  <tbody>\n",
              "    <tr>\n",
              "      <th>TCI</th>\n",
              "      <td>3701.0</td>\n",
              "      <td>471.866198</td>\n",
              "      <td>226.115977</td>\n",
              "      <td>126.050000</td>\n",
              "      <td>288.490000</td>\n",
              "      <td>427.440000</td>\n",
              "      <td>592.840000</td>\n",
              "      <td>1568.20000</td>\n",
              "    </tr>\n",
              "    <tr>\n",
              "      <th>TCSC</th>\n",
              "      <td>3701.0</td>\n",
              "      <td>33.608038</td>\n",
              "      <td>19.578268</td>\n",
              "      <td>2.400000</td>\n",
              "      <td>18.533000</td>\n",
              "      <td>31.667000</td>\n",
              "      <td>48.200000</td>\n",
              "      <td>82.40000</td>\n",
              "    </tr>\n",
              "    <tr>\n",
              "      <th>exp</th>\n",
              "      <td>3701.0</td>\n",
              "      <td>114.674412</td>\n",
              "      <td>80.866060</td>\n",
              "      <td>0.000000</td>\n",
              "      <td>60.000000</td>\n",
              "      <td>120.000000</td>\n",
              "      <td>180.000000</td>\n",
              "      <td>480.00000</td>\n",
              "    </tr>\n",
              "    <tr>\n",
              "      <th>expmod</th>\n",
              "      <td>3701.0</td>\n",
              "      <td>154.713591</td>\n",
              "      <td>67.387537</td>\n",
              "      <td>15.000000</td>\n",
              "      <td>105.000000</td>\n",
              "      <td>150.000000</td>\n",
              "      <td>195.000000</td>\n",
              "      <td>420.00000</td>\n",
              "    </tr>\n",
              "    <tr>\n",
              "      <th>cm</th>\n",
              "      <td>3701.0</td>\n",
              "      <td>0.148846</td>\n",
              "      <td>0.053616</td>\n",
              "      <td>0.029897</td>\n",
              "      <td>0.109620</td>\n",
              "      <td>0.149490</td>\n",
              "      <td>0.189350</td>\n",
              "      <td>0.36873</td>\n",
              "    </tr>\n",
              "    <tr>\n",
              "      <th>cvbin</th>\n",
              "      <td>3701.0</td>\n",
              "      <td>0.190585</td>\n",
              "      <td>0.063989</td>\n",
              "      <td>0.011868</td>\n",
              "      <td>0.152810</td>\n",
              "      <td>0.220290</td>\n",
              "      <td>0.239630</td>\n",
              "      <td>0.25025</td>\n",
              "    </tr>\n",
              "    <tr>\n",
              "      <th>frqbin</th>\n",
              "      <td>3701.0</td>\n",
              "      <td>2.857674</td>\n",
              "      <td>1.264093</td>\n",
              "      <td>0.250000</td>\n",
              "      <td>1.750000</td>\n",
              "      <td>2.750000</td>\n",
              "      <td>3.750000</td>\n",
              "      <td>8.25000</td>\n",
              "    </tr>\n",
              "    <tr>\n",
              "      <th>abin</th>\n",
              "      <td>3701.0</td>\n",
              "      <td>706.009997</td>\n",
              "      <td>131.036367</td>\n",
              "      <td>500.000000</td>\n",
              "      <td>603.000000</td>\n",
              "      <td>673.000000</td>\n",
              "      <td>812.000000</td>\n",
              "      <td>988.00000</td>\n",
              "    </tr>\n",
              "    <tr>\n",
              "      <th>kurt</th>\n",
              "      <td>3701.0</td>\n",
              "      <td>4.241358</td>\n",
              "      <td>5.894151</td>\n",
              "      <td>-1.575500</td>\n",
              "      <td>0.254510</td>\n",
              "      <td>2.353000</td>\n",
              "      <td>5.781000</td>\n",
              "      <td>66.12900</td>\n",
              "    </tr>\n",
              "    <tr>\n",
              "      <th>vfleak</th>\n",
              "      <td>3701.0</td>\n",
              "      <td>0.652819</td>\n",
              "      <td>0.160932</td>\n",
              "      <td>0.091432</td>\n",
              "      <td>0.577460</td>\n",
              "      <td>0.689980</td>\n",
              "      <td>0.765450</td>\n",
              "      <td>0.91446</td>\n",
              "    </tr>\n",
              "    <tr>\n",
              "      <th>M</th>\n",
              "      <td>3701.0</td>\n",
              "      <td>2.305465</td>\n",
              "      <td>1.514611</td>\n",
              "      <td>0.780200</td>\n",
              "      <td>1.341200</td>\n",
              "      <td>1.706000</td>\n",
              "      <td>2.826100</td>\n",
              "      <td>9.78610</td>\n",
              "    </tr>\n",
              "    <tr>\n",
              "      <th>A1</th>\n",
              "      <td>3701.0</td>\n",
              "      <td>0.027965</td>\n",
              "      <td>0.023149</td>\n",
              "      <td>0.000000</td>\n",
              "      <td>0.007253</td>\n",
              "      <td>0.024204</td>\n",
              "      <td>0.044149</td>\n",
              "      <td>0.11110</td>\n",
              "    </tr>\n",
              "    <tr>\n",
              "      <th>A2</th>\n",
              "      <td>3701.0</td>\n",
              "      <td>0.330608</td>\n",
              "      <td>0.156552</td>\n",
              "      <td>0.063225</td>\n",
              "      <td>0.225410</td>\n",
              "      <td>0.317450</td>\n",
              "      <td>0.392180</td>\n",
              "      <td>1.00480</td>\n",
              "    </tr>\n",
              "    <tr>\n",
              "      <th>A3</th>\n",
              "      <td>3701.0</td>\n",
              "      <td>1.262882</td>\n",
              "      <td>0.866920</td>\n",
              "      <td>0.000000</td>\n",
              "      <td>0.527740</td>\n",
              "      <td>1.006300</td>\n",
              "      <td>1.986500</td>\n",
              "      <td>3.27950</td>\n",
              "    </tr>\n",
              "    <tr>\n",
              "      <th>mav</th>\n",
              "      <td>3701.0</td>\n",
              "      <td>0.438612</td>\n",
              "      <td>0.195718</td>\n",
              "      <td>0.085306</td>\n",
              "      <td>0.283430</td>\n",
              "      <td>0.412750</td>\n",
              "      <td>0.574740</td>\n",
              "      <td>1.16300</td>\n",
              "    </tr>\n",
              "    <tr>\n",
              "      <th>psr</th>\n",
              "      <td>3701.0</td>\n",
              "      <td>0.068713</td>\n",
              "      <td>0.020246</td>\n",
              "      <td>0.015000</td>\n",
              "      <td>0.053750</td>\n",
              "      <td>0.066875</td>\n",
              "      <td>0.086875</td>\n",
              "      <td>0.10562</td>\n",
              "    </tr>\n",
              "    <tr>\n",
              "      <th>hilb</th>\n",
              "      <td>3701.0</td>\n",
              "      <td>0.076666</td>\n",
              "      <td>0.023002</td>\n",
              "      <td>0.015625</td>\n",
              "      <td>0.059375</td>\n",
              "      <td>0.075000</td>\n",
              "      <td>0.095000</td>\n",
              "      <td>0.11937</td>\n",
              "    </tr>\n",
              "    <tr>\n",
              "      <th>SamEn</th>\n",
              "      <td>3701.0</td>\n",
              "      <td>0.174771</td>\n",
              "      <td>0.113756</td>\n",
              "      <td>0.017992</td>\n",
              "      <td>0.095917</td>\n",
              "      <td>0.139880</td>\n",
              "      <td>0.209680</td>\n",
              "      <td>0.56991</td>\n",
              "    </tr>\n",
              "    <tr>\n",
              "      <th>x3</th>\n",
              "      <td>3701.0</td>\n",
              "      <td>0.016273</td>\n",
              "      <td>0.034566</td>\n",
              "      <td>0.000001</td>\n",
              "      <td>0.000284</td>\n",
              "      <td>0.001843</td>\n",
              "      <td>0.012480</td>\n",
              "      <td>0.34635</td>\n",
              "    </tr>\n",
              "    <tr>\n",
              "      <th>x4</th>\n",
              "      <td>3701.0</td>\n",
              "      <td>9.505539</td>\n",
              "      <td>6.246278</td>\n",
              "      <td>1.000000</td>\n",
              "      <td>5.000000</td>\n",
              "      <td>7.000000</td>\n",
              "      <td>12.000000</td>\n",
              "      <td>31.00000</td>\n",
              "    </tr>\n",
              "    <tr>\n",
              "      <th>x5</th>\n",
              "      <td>3701.0</td>\n",
              "      <td>3.495026</td>\n",
              "      <td>1.582822</td>\n",
              "      <td>1.038100</td>\n",
              "      <td>2.137300</td>\n",
              "      <td>3.114300</td>\n",
              "      <td>4.702000</td>\n",
              "      <td>9.95360</td>\n",
              "    </tr>\n",
              "    <tr>\n",
              "      <th>x1</th>\n",
              "      <td>3701.0</td>\n",
              "      <td>0.569407</td>\n",
              "      <td>0.185417</td>\n",
              "      <td>0.033422</td>\n",
              "      <td>0.453790</td>\n",
              "      <td>0.543080</td>\n",
              "      <td>0.678000</td>\n",
              "      <td>0.99570</td>\n",
              "    </tr>\n",
              "    <tr>\n",
              "      <th>x2</th>\n",
              "      <td>3701.0</td>\n",
              "      <td>0.058327</td>\n",
              "      <td>0.065262</td>\n",
              "      <td>0.000245</td>\n",
              "      <td>0.012287</td>\n",
              "      <td>0.030189</td>\n",
              "      <td>0.080555</td>\n",
              "      <td>0.36554</td>\n",
              "    </tr>\n",
              "    <tr>\n",
              "      <th>bCP</th>\n",
              "      <td>3701.0</td>\n",
              "      <td>0.524874</td>\n",
              "      <td>0.253028</td>\n",
              "      <td>0.026000</td>\n",
              "      <td>0.322000</td>\n",
              "      <td>0.566000</td>\n",
              "      <td>0.734000</td>\n",
              "      <td>0.96400</td>\n",
              "    </tr>\n",
              "    <tr>\n",
              "      <th>bWT</th>\n",
              "      <td>3701.0</td>\n",
              "      <td>0.268547</td>\n",
              "      <td>0.175674</td>\n",
              "      <td>0.003579</td>\n",
              "      <td>0.110180</td>\n",
              "      <td>0.256950</td>\n",
              "      <td>0.391410</td>\n",
              "      <td>0.95519</td>\n",
              "    </tr>\n",
              "    <tr>\n",
              "      <th>bW</th>\n",
              "      <td>3701.0</td>\n",
              "      <td>4.472252</td>\n",
              "      <td>2.652527</td>\n",
              "      <td>0.305180</td>\n",
              "      <td>2.197300</td>\n",
              "      <td>4.211400</td>\n",
              "      <td>6.347700</td>\n",
              "      <td>12.51200</td>\n",
              "    </tr>\n",
              "    <tr>\n",
              "      <th>Li</th>\n",
              "      <td>3701.0</td>\n",
              "      <td>25.831812</td>\n",
              "      <td>20.444950</td>\n",
              "      <td>1.116300</td>\n",
              "      <td>8.583700</td>\n",
              "      <td>19.659000</td>\n",
              "      <td>39.740000</td>\n",
              "      <td>106.13000</td>\n",
              "    </tr>\n",
              "    <tr>\n",
              "      <th>count1</th>\n",
              "      <td>3701.0</td>\n",
              "      <td>28.800392</td>\n",
              "      <td>11.597555</td>\n",
              "      <td>8.750000</td>\n",
              "      <td>20.000000</td>\n",
              "      <td>26.000000</td>\n",
              "      <td>36.000000</td>\n",
              "      <td>94.50000</td>\n",
              "    </tr>\n",
              "    <tr>\n",
              "      <th>count2</th>\n",
              "      <td>3701.0</td>\n",
              "      <td>79.999865</td>\n",
              "      <td>14.523026</td>\n",
              "      <td>40.500000</td>\n",
              "      <td>69.000000</td>\n",
              "      <td>78.500000</td>\n",
              "      <td>91.000000</td>\n",
              "      <td>128.50000</td>\n",
              "    </tr>\n",
              "    <tr>\n",
              "      <th>count3</th>\n",
              "      <td>3701.0</td>\n",
              "      <td>15.171734</td>\n",
              "      <td>10.871336</td>\n",
              "      <td>2.131600</td>\n",
              "      <td>6.798400</td>\n",
              "      <td>11.605000</td>\n",
              "      <td>21.674000</td>\n",
              "      <td>87.15000</td>\n",
              "    </tr>\n",
              "    <tr>\n",
              "      <th>VF</th>\n",
              "      <td>3701.0</td>\n",
              "      <td>0.193461</td>\n",
              "      <td>0.395065</td>\n",
              "      <td>0.000000</td>\n",
              "      <td>0.000000</td>\n",
              "      <td>0.000000</td>\n",
              "      <td>0.000000</td>\n",
              "      <td>1.00000</td>\n",
              "    </tr>\n",
              "  </tbody>\n",
              "</table>\n",
              "</div>\n",
              "      <button class=\"colab-df-convert\" onclick=\"convertToInteractive('df-a8117b38-34d8-4d14-8e28-b4ae5ddbdf1c')\"\n",
              "              title=\"Convert this dataframe to an interactive table.\"\n",
              "              style=\"display:none;\">\n",
              "        \n",
              "  <svg xmlns=\"http://www.w3.org/2000/svg\" height=\"24px\"viewBox=\"0 0 24 24\"\n",
              "       width=\"24px\">\n",
              "    <path d=\"M0 0h24v24H0V0z\" fill=\"none\"/>\n",
              "    <path d=\"M18.56 5.44l.94 2.06.94-2.06 2.06-.94-2.06-.94-.94-2.06-.94 2.06-2.06.94zm-11 1L8.5 8.5l.94-2.06 2.06-.94-2.06-.94L8.5 2.5l-.94 2.06-2.06.94zm10 10l.94 2.06.94-2.06 2.06-.94-2.06-.94-.94-2.06-.94 2.06-2.06.94z\"/><path d=\"M17.41 7.96l-1.37-1.37c-.4-.4-.92-.59-1.43-.59-.52 0-1.04.2-1.43.59L10.3 9.45l-7.72 7.72c-.78.78-.78 2.05 0 2.83L4 21.41c.39.39.9.59 1.41.59.51 0 1.02-.2 1.41-.59l7.78-7.78 2.81-2.81c.8-.78.8-2.07 0-2.86zM5.41 20L4 18.59l7.72-7.72 1.47 1.35L5.41 20z\"/>\n",
              "  </svg>\n",
              "      </button>\n",
              "      \n",
              "  <style>\n",
              "    .colab-df-container {\n",
              "      display:flex;\n",
              "      flex-wrap:wrap;\n",
              "      gap: 12px;\n",
              "    }\n",
              "\n",
              "    .colab-df-convert {\n",
              "      background-color: #E8F0FE;\n",
              "      border: none;\n",
              "      border-radius: 50%;\n",
              "      cursor: pointer;\n",
              "      display: none;\n",
              "      fill: #1967D2;\n",
              "      height: 32px;\n",
              "      padding: 0 0 0 0;\n",
              "      width: 32px;\n",
              "    }\n",
              "\n",
              "    .colab-df-convert:hover {\n",
              "      background-color: #E2EBFA;\n",
              "      box-shadow: 0px 1px 2px rgba(60, 64, 67, 0.3), 0px 1px 3px 1px rgba(60, 64, 67, 0.15);\n",
              "      fill: #174EA6;\n",
              "    }\n",
              "\n",
              "    [theme=dark] .colab-df-convert {\n",
              "      background-color: #3B4455;\n",
              "      fill: #D2E3FC;\n",
              "    }\n",
              "\n",
              "    [theme=dark] .colab-df-convert:hover {\n",
              "      background-color: #434B5C;\n",
              "      box-shadow: 0px 1px 3px 1px rgba(0, 0, 0, 0.15);\n",
              "      filter: drop-shadow(0px 1px 2px rgba(0, 0, 0, 0.3));\n",
              "      fill: #FFFFFF;\n",
              "    }\n",
              "  </style>\n",
              "\n",
              "      <script>\n",
              "        const buttonEl =\n",
              "          document.querySelector('#df-a8117b38-34d8-4d14-8e28-b4ae5ddbdf1c button.colab-df-convert');\n",
              "        buttonEl.style.display =\n",
              "          google.colab.kernel.accessAllowed ? 'block' : 'none';\n",
              "\n",
              "        async function convertToInteractive(key) {\n",
              "          const element = document.querySelector('#df-a8117b38-34d8-4d14-8e28-b4ae5ddbdf1c');\n",
              "          const dataTable =\n",
              "            await google.colab.kernel.invokeFunction('convertToInteractive',\n",
              "                                                     [key], {});\n",
              "          if (!dataTable) return;\n",
              "\n",
              "          const docLinkHtml = 'Like what you see? Visit the ' +\n",
              "            '<a target=\"_blank\" href=https://colab.research.google.com/notebooks/data_table.ipynb>data table notebook</a>'\n",
              "            + ' to learn more about interactive tables.';\n",
              "          element.innerHTML = '';\n",
              "          dataTable['output_type'] = 'display_data';\n",
              "          await google.colab.output.renderOutput(dataTable, element);\n",
              "          const docLink = document.createElement('div');\n",
              "          docLink.innerHTML = docLinkHtml;\n",
              "          element.appendChild(docLink);\n",
              "        }\n",
              "      </script>\n",
              "    </div>\n",
              "  </div>\n",
              "  "
            ]
          },
          "metadata": {},
          "execution_count": 7
        }
      ]
    },
    {
      "cell_type": "markdown",
      "source": [
        "- **Las escalas de las variables son muy diversas. Con unas desviaciones estándar demasiado similares a los valores de cada variable.** \n",
        "\n",
        "- **Los algoritmos de Machine Learning no tienen un buen rendimiento cuando los atributos numéricos de entrada tienen escalas muy diferentes.** \n",
        "\n",
        "**A continuación vamos a utilizar dos métodos diferentes de escalado de características:**"
      ],
      "metadata": {
        "id": "jYMxCXidYOr4"
      }
    },
    {
      "cell_type": "markdown",
      "source": [
        "###Escalado \"min-max\"\n",
        "\n",
        "- **Los valores (salvo la variable de salida) se trasladan y vuelven a escalarse para acabar en un rango entre 0 y 1. Esto se hace sustrayendo el valor mínimo y dividiendo por el máximo menos el mínimo (rango). Podemos aplicar el normalizado \"min-max\" utilizando las funciones min() y max():**"
      ],
      "metadata": {
        "id": "ZLMklsmTYyEV"
      }
    },
    {
      "cell_type": "code",
      "source": [
        "data_min_max = data.drop(['VF'], axis = 1).copy()\n",
        "\n",
        "for column in data_min_max.columns:\n",
        "  data_min_max[column] = (data_min_max[column] - data_min_max[column].min()) / (data_min_max[column].max() - data_min_max[column].min())\n",
        "\n",
        "data_min_max.head(1)"
      ],
      "metadata": {
        "colab": {
          "base_uri": "https://localhost:8080/",
          "height": 110
        },
        "outputId": "0eaaef27-59ab-4aca-c304-109b5e8f3e68",
        "id": "bNpnG898YOr4"
      },
      "execution_count": null,
      "outputs": [
        {
          "output_type": "execute_result",
          "data": {
            "text/plain": [
              "        TCI      TCSC     exp    expmod        cm     cvbin   frqbin  \\\n",
              "0  0.644697  0.029166  0.1875  0.111111  0.500019  0.911696  0.34375   \n",
              "\n",
              "       abin     kurt    vfleak  ...        x5       x1        x2       bCP  \\\n",
              "0  0.297131  0.32356  0.902676  ...  0.109584  0.41467  0.388795  0.950959   \n",
              "\n",
              "        bWT        bW        Li    count1    count2    count3  \n",
              "0  0.025254  0.605008  0.136513  0.067055  0.232955  0.023204  \n",
              "\n",
              "[1 rows x 30 columns]"
            ],
            "text/html": [
              "\n",
              "  <div id=\"df-7183f8e6-459c-49d2-84b6-abaf4781a472\">\n",
              "    <div class=\"colab-df-container\">\n",
              "      <div>\n",
              "<style scoped>\n",
              "    .dataframe tbody tr th:only-of-type {\n",
              "        vertical-align: middle;\n",
              "    }\n",
              "\n",
              "    .dataframe tbody tr th {\n",
              "        vertical-align: top;\n",
              "    }\n",
              "\n",
              "    .dataframe thead th {\n",
              "        text-align: right;\n",
              "    }\n",
              "</style>\n",
              "<table border=\"1\" class=\"dataframe\">\n",
              "  <thead>\n",
              "    <tr style=\"text-align: right;\">\n",
              "      <th></th>\n",
              "      <th>TCI</th>\n",
              "      <th>TCSC</th>\n",
              "      <th>exp</th>\n",
              "      <th>expmod</th>\n",
              "      <th>cm</th>\n",
              "      <th>cvbin</th>\n",
              "      <th>frqbin</th>\n",
              "      <th>abin</th>\n",
              "      <th>kurt</th>\n",
              "      <th>vfleak</th>\n",
              "      <th>...</th>\n",
              "      <th>x5</th>\n",
              "      <th>x1</th>\n",
              "      <th>x2</th>\n",
              "      <th>bCP</th>\n",
              "      <th>bWT</th>\n",
              "      <th>bW</th>\n",
              "      <th>Li</th>\n",
              "      <th>count1</th>\n",
              "      <th>count2</th>\n",
              "      <th>count3</th>\n",
              "    </tr>\n",
              "  </thead>\n",
              "  <tbody>\n",
              "    <tr>\n",
              "      <th>0</th>\n",
              "      <td>0.644697</td>\n",
              "      <td>0.029166</td>\n",
              "      <td>0.1875</td>\n",
              "      <td>0.111111</td>\n",
              "      <td>0.500019</td>\n",
              "      <td>0.911696</td>\n",
              "      <td>0.34375</td>\n",
              "      <td>0.297131</td>\n",
              "      <td>0.32356</td>\n",
              "      <td>0.902676</td>\n",
              "      <td>...</td>\n",
              "      <td>0.109584</td>\n",
              "      <td>0.41467</td>\n",
              "      <td>0.388795</td>\n",
              "      <td>0.950959</td>\n",
              "      <td>0.025254</td>\n",
              "      <td>0.605008</td>\n",
              "      <td>0.136513</td>\n",
              "      <td>0.067055</td>\n",
              "      <td>0.232955</td>\n",
              "      <td>0.023204</td>\n",
              "    </tr>\n",
              "  </tbody>\n",
              "</table>\n",
              "<p>1 rows × 30 columns</p>\n",
              "</div>\n",
              "      <button class=\"colab-df-convert\" onclick=\"convertToInteractive('df-7183f8e6-459c-49d2-84b6-abaf4781a472')\"\n",
              "              title=\"Convert this dataframe to an interactive table.\"\n",
              "              style=\"display:none;\">\n",
              "        \n",
              "  <svg xmlns=\"http://www.w3.org/2000/svg\" height=\"24px\"viewBox=\"0 0 24 24\"\n",
              "       width=\"24px\">\n",
              "    <path d=\"M0 0h24v24H0V0z\" fill=\"none\"/>\n",
              "    <path d=\"M18.56 5.44l.94 2.06.94-2.06 2.06-.94-2.06-.94-.94-2.06-.94 2.06-2.06.94zm-11 1L8.5 8.5l.94-2.06 2.06-.94-2.06-.94L8.5 2.5l-.94 2.06-2.06.94zm10 10l.94 2.06.94-2.06 2.06-.94-2.06-.94-.94-2.06-.94 2.06-2.06.94z\"/><path d=\"M17.41 7.96l-1.37-1.37c-.4-.4-.92-.59-1.43-.59-.52 0-1.04.2-1.43.59L10.3 9.45l-7.72 7.72c-.78.78-.78 2.05 0 2.83L4 21.41c.39.39.9.59 1.41.59.51 0 1.02-.2 1.41-.59l7.78-7.78 2.81-2.81c.8-.78.8-2.07 0-2.86zM5.41 20L4 18.59l7.72-7.72 1.47 1.35L5.41 20z\"/>\n",
              "  </svg>\n",
              "      </button>\n",
              "      \n",
              "  <style>\n",
              "    .colab-df-container {\n",
              "      display:flex;\n",
              "      flex-wrap:wrap;\n",
              "      gap: 12px;\n",
              "    }\n",
              "\n",
              "    .colab-df-convert {\n",
              "      background-color: #E8F0FE;\n",
              "      border: none;\n",
              "      border-radius: 50%;\n",
              "      cursor: pointer;\n",
              "      display: none;\n",
              "      fill: #1967D2;\n",
              "      height: 32px;\n",
              "      padding: 0 0 0 0;\n",
              "      width: 32px;\n",
              "    }\n",
              "\n",
              "    .colab-df-convert:hover {\n",
              "      background-color: #E2EBFA;\n",
              "      box-shadow: 0px 1px 2px rgba(60, 64, 67, 0.3), 0px 1px 3px 1px rgba(60, 64, 67, 0.15);\n",
              "      fill: #174EA6;\n",
              "    }\n",
              "\n",
              "    [theme=dark] .colab-df-convert {\n",
              "      background-color: #3B4455;\n",
              "      fill: #D2E3FC;\n",
              "    }\n",
              "\n",
              "    [theme=dark] .colab-df-convert:hover {\n",
              "      background-color: #434B5C;\n",
              "      box-shadow: 0px 1px 3px 1px rgba(0, 0, 0, 0.15);\n",
              "      filter: drop-shadow(0px 1px 2px rgba(0, 0, 0, 0.3));\n",
              "      fill: #FFFFFF;\n",
              "    }\n",
              "  </style>\n",
              "\n",
              "      <script>\n",
              "        const buttonEl =\n",
              "          document.querySelector('#df-7183f8e6-459c-49d2-84b6-abaf4781a472 button.colab-df-convert');\n",
              "        buttonEl.style.display =\n",
              "          google.colab.kernel.accessAllowed ? 'block' : 'none';\n",
              "\n",
              "        async function convertToInteractive(key) {\n",
              "          const element = document.querySelector('#df-7183f8e6-459c-49d2-84b6-abaf4781a472');\n",
              "          const dataTable =\n",
              "            await google.colab.kernel.invokeFunction('convertToInteractive',\n",
              "                                                     [key], {});\n",
              "          if (!dataTable) return;\n",
              "\n",
              "          const docLinkHtml = 'Like what you see? Visit the ' +\n",
              "            '<a target=\"_blank\" href=https://colab.research.google.com/notebooks/data_table.ipynb>data table notebook</a>'\n",
              "            + ' to learn more about interactive tables.';\n",
              "          element.innerHTML = '';\n",
              "          dataTable['output_type'] = 'display_data';\n",
              "          await google.colab.output.renderOutput(dataTable, element);\n",
              "          const docLink = document.createElement('div');\n",
              "          docLink.innerHTML = docLinkHtml;\n",
              "          element.appendChild(docLink);\n",
              "        }\n",
              "      </script>\n",
              "    </div>\n",
              "  </div>\n",
              "  "
            ]
          },
          "metadata": {},
          "execution_count": 8
        }
      ]
    },
    {
      "cell_type": "markdown",
      "source": [
        "###Escalado por Estandarización \n",
        "- **Primero se sustrae el valor medio a los valores de entrenamiento (de manera que los valores normalizados siempre tienen una media de cero) y luego se divide por la desviación estándar. Para que la varianza resultante tenga varianza unitaria**. \n",
        "\n",
        "- **A diferencia de la normalización min./max., la estandarización no limita los valores a un rango específico, lo cual puede ser un problema para algunos algoritmos. Sin embargo, la estandarización se ve mucho menos afectada por los valores atípicos:**  "
      ],
      "metadata": {
        "id": "l_oD-MiQYXur"
      }
    },
    {
      "cell_type": "code",
      "source": [
        "data_std = data.drop(['VF'], axis = 1).copy()\n",
        "\n",
        "for column in data_std.columns:\n",
        "  data_std[column] = (data_std[column] - data_std[column].mean()) / data_std[column].std()\n",
        "\n",
        "data_std.head(1)"
      ],
      "metadata": {
        "colab": {
          "base_uri": "https://localhost:8080/",
          "height": 110
        },
        "id": "GpHS0Q5MgpUf",
        "outputId": "e538297c-cfe1-4926-c262-5778b1d676a5"
      },
      "execution_count": null,
      "outputs": [
        {
          "output_type": "execute_result",
          "data": {
            "text/plain": [
              "        TCI      TCSC       exp    expmod      cm     cvbin    frqbin  \\\n",
              "0  2.582453 -1.474836 -0.305127 -1.405506  0.9414  0.603474  0.112592   \n",
              "\n",
              "       abin      kurt    vfleak  ...        x5        x1        x2       bCP  \\\n",
              "0 -0.465596  2.729764  1.128056  ... -0.934992 -0.738644  1.286239  1.553684   \n",
              "\n",
              "        bWT        bW        Li    count1    count2    count3  \n",
              "0 -1.371493  1.213238 -0.507696 -1.233052 -1.308258 -1.018029  \n",
              "\n",
              "[1 rows x 30 columns]"
            ],
            "text/html": [
              "\n",
              "  <div id=\"df-b51c5b98-1c62-41fa-8e7e-d5ef567a157e\">\n",
              "    <div class=\"colab-df-container\">\n",
              "      <div>\n",
              "<style scoped>\n",
              "    .dataframe tbody tr th:only-of-type {\n",
              "        vertical-align: middle;\n",
              "    }\n",
              "\n",
              "    .dataframe tbody tr th {\n",
              "        vertical-align: top;\n",
              "    }\n",
              "\n",
              "    .dataframe thead th {\n",
              "        text-align: right;\n",
              "    }\n",
              "</style>\n",
              "<table border=\"1\" class=\"dataframe\">\n",
              "  <thead>\n",
              "    <tr style=\"text-align: right;\">\n",
              "      <th></th>\n",
              "      <th>TCI</th>\n",
              "      <th>TCSC</th>\n",
              "      <th>exp</th>\n",
              "      <th>expmod</th>\n",
              "      <th>cm</th>\n",
              "      <th>cvbin</th>\n",
              "      <th>frqbin</th>\n",
              "      <th>abin</th>\n",
              "      <th>kurt</th>\n",
              "      <th>vfleak</th>\n",
              "      <th>...</th>\n",
              "      <th>x5</th>\n",
              "      <th>x1</th>\n",
              "      <th>x2</th>\n",
              "      <th>bCP</th>\n",
              "      <th>bWT</th>\n",
              "      <th>bW</th>\n",
              "      <th>Li</th>\n",
              "      <th>count1</th>\n",
              "      <th>count2</th>\n",
              "      <th>count3</th>\n",
              "    </tr>\n",
              "  </thead>\n",
              "  <tbody>\n",
              "    <tr>\n",
              "      <th>0</th>\n",
              "      <td>2.582453</td>\n",
              "      <td>-1.474836</td>\n",
              "      <td>-0.305127</td>\n",
              "      <td>-1.405506</td>\n",
              "      <td>0.9414</td>\n",
              "      <td>0.603474</td>\n",
              "      <td>0.112592</td>\n",
              "      <td>-0.465596</td>\n",
              "      <td>2.729764</td>\n",
              "      <td>1.128056</td>\n",
              "      <td>...</td>\n",
              "      <td>-0.934992</td>\n",
              "      <td>-0.738644</td>\n",
              "      <td>1.286239</td>\n",
              "      <td>1.553684</td>\n",
              "      <td>-1.371493</td>\n",
              "      <td>1.213238</td>\n",
              "      <td>-0.507696</td>\n",
              "      <td>-1.233052</td>\n",
              "      <td>-1.308258</td>\n",
              "      <td>-1.018029</td>\n",
              "    </tr>\n",
              "  </tbody>\n",
              "</table>\n",
              "<p>1 rows × 30 columns</p>\n",
              "</div>\n",
              "      <button class=\"colab-df-convert\" onclick=\"convertToInteractive('df-b51c5b98-1c62-41fa-8e7e-d5ef567a157e')\"\n",
              "              title=\"Convert this dataframe to an interactive table.\"\n",
              "              style=\"display:none;\">\n",
              "        \n",
              "  <svg xmlns=\"http://www.w3.org/2000/svg\" height=\"24px\"viewBox=\"0 0 24 24\"\n",
              "       width=\"24px\">\n",
              "    <path d=\"M0 0h24v24H0V0z\" fill=\"none\"/>\n",
              "    <path d=\"M18.56 5.44l.94 2.06.94-2.06 2.06-.94-2.06-.94-.94-2.06-.94 2.06-2.06.94zm-11 1L8.5 8.5l.94-2.06 2.06-.94-2.06-.94L8.5 2.5l-.94 2.06-2.06.94zm10 10l.94 2.06.94-2.06 2.06-.94-2.06-.94-.94-2.06-.94 2.06-2.06.94z\"/><path d=\"M17.41 7.96l-1.37-1.37c-.4-.4-.92-.59-1.43-.59-.52 0-1.04.2-1.43.59L10.3 9.45l-7.72 7.72c-.78.78-.78 2.05 0 2.83L4 21.41c.39.39.9.59 1.41.59.51 0 1.02-.2 1.41-.59l7.78-7.78 2.81-2.81c.8-.78.8-2.07 0-2.86zM5.41 20L4 18.59l7.72-7.72 1.47 1.35L5.41 20z\"/>\n",
              "  </svg>\n",
              "      </button>\n",
              "      \n",
              "  <style>\n",
              "    .colab-df-container {\n",
              "      display:flex;\n",
              "      flex-wrap:wrap;\n",
              "      gap: 12px;\n",
              "    }\n",
              "\n",
              "    .colab-df-convert {\n",
              "      background-color: #E8F0FE;\n",
              "      border: none;\n",
              "      border-radius: 50%;\n",
              "      cursor: pointer;\n",
              "      display: none;\n",
              "      fill: #1967D2;\n",
              "      height: 32px;\n",
              "      padding: 0 0 0 0;\n",
              "      width: 32px;\n",
              "    }\n",
              "\n",
              "    .colab-df-convert:hover {\n",
              "      background-color: #E2EBFA;\n",
              "      box-shadow: 0px 1px 2px rgba(60, 64, 67, 0.3), 0px 1px 3px 1px rgba(60, 64, 67, 0.15);\n",
              "      fill: #174EA6;\n",
              "    }\n",
              "\n",
              "    [theme=dark] .colab-df-convert {\n",
              "      background-color: #3B4455;\n",
              "      fill: #D2E3FC;\n",
              "    }\n",
              "\n",
              "    [theme=dark] .colab-df-convert:hover {\n",
              "      background-color: #434B5C;\n",
              "      box-shadow: 0px 1px 3px 1px rgba(0, 0, 0, 0.15);\n",
              "      filter: drop-shadow(0px 1px 2px rgba(0, 0, 0, 0.3));\n",
              "      fill: #FFFFFF;\n",
              "    }\n",
              "  </style>\n",
              "\n",
              "      <script>\n",
              "        const buttonEl =\n",
              "          document.querySelector('#df-b51c5b98-1c62-41fa-8e7e-d5ef567a157e button.colab-df-convert');\n",
              "        buttonEl.style.display =\n",
              "          google.colab.kernel.accessAllowed ? 'block' : 'none';\n",
              "\n",
              "        async function convertToInteractive(key) {\n",
              "          const element = document.querySelector('#df-b51c5b98-1c62-41fa-8e7e-d5ef567a157e');\n",
              "          const dataTable =\n",
              "            await google.colab.kernel.invokeFunction('convertToInteractive',\n",
              "                                                     [key], {});\n",
              "          if (!dataTable) return;\n",
              "\n",
              "          const docLinkHtml = 'Like what you see? Visit the ' +\n",
              "            '<a target=\"_blank\" href=https://colab.research.google.com/notebooks/data_table.ipynb>data table notebook</a>'\n",
              "            + ' to learn more about interactive tables.';\n",
              "          element.innerHTML = '';\n",
              "          dataTable['output_type'] = 'display_data';\n",
              "          await google.colab.output.renderOutput(dataTable, element);\n",
              "          const docLink = document.createElement('div');\n",
              "          docLink.innerHTML = docLinkHtml;\n",
              "          element.appendChild(docLink);\n",
              "        }\n",
              "      </script>\n",
              "    </div>\n",
              "  </div>\n",
              "  "
            ]
          },
          "metadata": {},
          "execution_count": 9
        }
      ]
    },
    {
      "cell_type": "markdown",
      "source": [
        "## 3.- Train a Model"
      ],
      "metadata": {
        "id": "QJKYATjjawm_"
      }
    },
    {
      "cell_type": "markdown",
      "source": [
        "- **Optamos por el resultado del escalado \"min-max\", dada su idoneidad para un mayor número de modelos de este dataset en concreto.**\n",
        "\n",
        "- **Procedemos a crear nuestros conjuntos de Train, Test y a desarrollar diferentes modelos:**"
      ],
      "metadata": {
        "id": "RWS26Wr-Asbz"
      }
    },
    {
      "cell_type": "code",
      "source": [
        "X = data_min_max\n",
        "y = data['VF']\n",
        "\n",
        "seed =   2022 #año de nacimiento\n",
        "test_size =  0.30\n",
        "\n",
        "X_train, X_test, y_train, y_test = train_test_split(X,y, random_state = seed , test_size = test_size)"
      ],
      "metadata": {
        "id": "zI8gBnWka7U_"
      },
      "execution_count": null,
      "outputs": []
    },
    {
      "cell_type": "code",
      "source": [
        "X.columns"
      ],
      "metadata": {
        "id": "VekbBrkCf72g",
        "colab": {
          "base_uri": "https://localhost:8080/"
        },
        "outputId": "c8c6d69e-dd18-43f6-bf78-79e86575eea9"
      },
      "execution_count": null,
      "outputs": [
        {
          "output_type": "execute_result",
          "data": {
            "text/plain": [
              "Index(['TCI', 'TCSC', 'exp', 'expmod', 'cm', 'cvbin', 'frqbin', 'abin', 'kurt',\n",
              "       'vfleak', 'M', 'A1', 'A2', 'A3', 'mav', 'psr', 'hilb', 'SamEn', 'x3',\n",
              "       'x4', 'x5', 'x1', 'x2', 'bCP', 'bWT', 'bW', 'Li', 'count1', 'count2',\n",
              "       'count3'],\n",
              "      dtype='object')"
            ]
          },
          "metadata": {},
          "execution_count": 11
        }
      ]
    },
    {
      "cell_type": "code",
      "source": [
        "def compute_metrics(model, X_test, y_test, y_pred):\n",
        "  y_pred_proba = model.predict_proba(X_test)[:, 1]\n",
        "  [fpr, tpr, thr] = metrics.roc_curve(y_test, y_pred_proba)\n",
        "  \n",
        "  mcm = metrics.confusion_matrix(y_test, y_pred)\n",
        "  tn = mcm[0, 0]\n",
        "  tp = mcm[1, 1]\n",
        "  fn = mcm[1, 0]\n",
        "  fp = mcm[0, 1]\n",
        "\n",
        "  Specificity = tn / (tn + fp)\n",
        "  \n",
        "  print('Train/Test split results:')\n",
        "  print(model.__class__.__name__+\" accuracy is %2.3f\" % metrics.accuracy_score(y_test, y_pred))\n",
        "  print(model.__class__.__name__+\" auc is %2.3f\" % metrics.auc(fpr, tpr))\n",
        "  print(model.__class__.__name__+\" Sensitivity is %2.3f\" % metrics.recall_score(y_test, y_pred))\n",
        "  print(model.__class__.__name__+\" Specificity is %2.3f\" % Specificity) \n",
        "  print(model.__class__.__name__+\" F1 is %2.3f\" % metrics.f1_score(y_test, y_pred))"
      ],
      "metadata": {
        "id": "72Bujsi05w8M"
      },
      "execution_count": null,
      "outputs": []
    },
    {
      "cell_type": "markdown",
      "source": [
        "###Regresión Logística\n",
        "\n",
        "- Se utiliza para calcular la probabilidad de que una instancia pertenezca a una clase concreta.\n",
        "\n",
        "- Este método establece por defecto una penalización de tipo \"l2\", que a su vez es compatible con el solucionador \"newton-cg\". Buscamos poder optimizar las pérdidas de este problema de multiclase.\n",
        "\n",
        "- Ajustamos la fuerza de la regularización con el parámetro \"C\" y marcamos unos pesos de clase balanceados con el parámetro \"class_weight\"."
      ],
      "metadata": {
        "id": "Tx69Q-5kT403"
      }
    },
    {
      "cell_type": "code",
      "source": [
        "#### Model 1\n",
        "\n",
        "# Define model\n",
        "model_1 = LogisticRegression(random_state = 1234,\n",
        "                             solver = 'newton-cg',\n",
        "                             C = 500,\n",
        "                             class_weight = 'balanced'\n",
        "                             )\n",
        "# Train model\n",
        "model_1.fit(X_train, y_train)\n",
        "\n",
        "# Predict \n",
        "y_pred = model_1.predict(X_test)\n",
        "\n",
        "# Eval model\n",
        "compute_metrics(model_1, X_test, y_test, y_pred)"
      ],
      "metadata": {
        "id": "mXEFGNjLbSVr",
        "colab": {
          "base_uri": "https://localhost:8080/"
        },
        "outputId": "196c9203-830d-4310-df56-abcec5c0721a"
      },
      "execution_count": null,
      "outputs": [
        {
          "output_type": "stream",
          "name": "stdout",
          "text": [
            "Train/Test split results:\n",
            "LogisticRegression accuracy is 0.991\n",
            "LogisticRegression auc is 0.999\n",
            "LogisticRegression Sensitivity is 0.985\n",
            "LogisticRegression Specificity is 0.992\n",
            "LogisticRegression F1 is 0.975\n"
          ]
        }
      ]
    },
    {
      "cell_type": "code",
      "source": [
        "conf_mtrx = confusion_matrix(y_test, y_pred)\n",
        "tn, fp, fn, tp = conf_mtrx.ravel() \n",
        "\n",
        "sns.heatmap(conf_mtrx, annot = True);"
      ],
      "metadata": {
        "colab": {
          "base_uri": "https://localhost:8080/",
          "height": 269
        },
        "id": "W97QqmrUnd9f",
        "outputId": "3ba6e8b0-d610-4eaf-d7e7-ee0858111de7"
      },
      "execution_count": null,
      "outputs": [
        {
          "output_type": "display_data",
          "data": {
            "text/plain": [
              "<Figure size 432x288 with 2 Axes>"
            ],
            "image/png": "[encoded data removed]"
          },
          "metadata": {
            "needs_background": "light"
          }
        }
      ]
    },
    {
      "cell_type": "markdown",
      "source": [
        "- **Obtenemos valores razonables de sensitividad, especificitividad y F1.**\n",
        "\n",
        "- **Diversas pruebas de ajuste de los parámetros no arrojaron mejores resultados.**\n",
        "\n",
        "- **La matriz de confusión arroja unos errores de predicción (FP y FN) bastante ajustados.**"
      ],
      "metadata": {
        "id": "3iW_uUenIuuU"
      }
    },
    {
      "cell_type": "markdown",
      "source": [
        "###Naive Bayes\n",
        "\n",
        "- Álgoritmo válido para casos de clasificación binaria y multiclase. \n",
        "\n",
        "- Establecemos que sus variables predictoras son independientes entre si.\n",
        "\n",
        "- Vamos a emplear una variante de Naive Bayes que intenta inferir una distribución Gaussiana a los valores:"
      ],
      "metadata": {
        "id": "ueIeAEC6Osfk"
      }
    },
    {
      "cell_type": "code",
      "source": [
        "from sklearn.naive_bayes import GaussianNB\n",
        "\n",
        "# Define model\n",
        "model_2 = GaussianNB()\n",
        "\n",
        "# Train model\n",
        "model_2.fit(X_train, y_train)\n",
        "\n",
        "# Predict \n",
        "y_pred = model_2.predict(X_test)\n",
        "\n",
        "# Eval model\n",
        "compute_metrics(model_2, X_test, y_test, y_pred)"
      ],
      "metadata": {
        "colab": {
          "base_uri": "https://localhost:8080/"
        },
        "id": "HIlL5FuQCsio",
        "outputId": "017d41cf-8b9b-419a-b0fc-5ae8517fa9cc"
      },
      "execution_count": null,
      "outputs": [
        {
          "output_type": "stream",
          "name": "stdout",
          "text": [
            "Train/Test split results:\n",
            "GaussianNB accuracy is 0.968\n",
            "GaussianNB auc is 0.989\n",
            "GaussianNB Sensitivity is 0.960\n",
            "GaussianNB Specificity is 0.970\n",
            "GaussianNB F1 is 0.917\n"
          ]
        }
      ]
    },
    {
      "cell_type": "code",
      "source": [
        "conf_mtrx = confusion_matrix(y_test, y_pred)\n",
        "tn, fp, fn, tp = conf_mtrx.ravel() \n",
        "\n",
        "sns.heatmap(conf_mtrx, annot = True);"
      ],
      "metadata": {
        "colab": {
          "base_uri": "https://localhost:8080/",
          "height": 265
        },
        "outputId": "05c5e1dd-0ae0-4ad3-a632-812b204a6b57",
        "id": "ZEgX-jowXIO4"
      },
      "execution_count": null,
      "outputs": [
        {
          "output_type": "display_data",
          "data": {
            "text/plain": [
              "<Figure size 432x288 with 2 Axes>"
            ],
            "image/png": "[encoded data removed]"
          },
          "metadata": {
            "needs_background": "light"
          }
        }
      ]
    },
    {
      "cell_type": "markdown",
      "source": [
        "- **Obtenemos valores de sensitividad, especificitividad y F1 que reflejan una eficacia menor de este modelo comparándolo con la Regresión Lineal. Intentar asemejar nuestras variables a una distribución normal no ha resultado provechoso.** \n",
        "\n",
        "- **Al tratarse de un caso real, la asunción de predictores independientes es casi imposible.**\n",
        "\n",
        "- **La matriz de confusión arroja unos errores de predicción (FP y FN) demasiado abultados para este caso en concreto.**\n",
        "\n",
        "- **El modelo de Naive Bayes a través del método CategoricalNB() no devolvió resultados. Ya que algunas de las categorías aparecían en el test, pero no en el conjunto de entrenamiento  (probabilidad resultante = 0). Haciendo imposible la predicción y su calificación.**"
      ],
      "metadata": {
        "id": "GsN7PVwsQvZX"
      }
    },
    {
      "cell_type": "markdown",
      "source": [
        "###KNN\n",
        "\n",
        "- Calcula la distancia (Euclidiana, Hamming o Manhattan) entre el nuevo punto de datos con cada ejemplo de entrenamiento. Elige las K entradas de la base de datos que más se acercan al nuevo punto de datos. \n",
        "\n",
        "- Realiza la votación por mayoría, es decir, la clase/etiqueta más común entre esas K entradas será la clase del nuevo punto de datos.\n",
        "\n",
        "- Marcamos los pesos en función de la inversa de su distancia, un reducido tamaño de hoja para facilitar el modelado y el número de vecinos que entregó el mejor F1. Acto seguido visualizaremos el error del modelo entre número de vecinos y su matriz de confusión resultante:"
      ],
      "metadata": {
        "id": "fIFvkxSnnlTb"
      }
    },
    {
      "cell_type": "code",
      "source": [
        "from sklearn.neighbors import KNeighborsClassifier\n",
        "\n",
        "#### Model 3\n",
        "model_3 = KNeighborsClassifier(leaf_size='10', n_neighbors=6, weights='distance')\n",
        "\n",
        "# Train model\n",
        "model_3.fit(X_train, y_train)\n",
        "\n",
        "# Predict \n",
        "y_pred = model_3.predict(X_test)\n",
        "\n",
        "# Eval model\n",
        "compute_metrics(model_3, X_test, y_test, y_pred)"
      ],
      "metadata": {
        "colab": {
          "base_uri": "https://localhost:8080/"
        },
        "id": "UrYqrsxHUCYn",
        "outputId": "3437b56c-2402-4561-82ba-bb98ab879a02"
      },
      "execution_count": null,
      "outputs": [
        {
          "output_type": "stream",
          "name": "stdout",
          "text": [
            "Train/Test split results:\n",
            "KNeighborsClassifier accuracy is 0.992\n",
            "KNeighborsClassifier auc is 0.991\n",
            "KNeighborsClassifier Sensitivity is 0.970\n",
            "KNeighborsClassifier Specificity is 0.997\n",
            "KNeighborsClassifier F1 is 0.978\n"
          ]
        }
      ]
    },
    {
      "cell_type": "code",
      "source": [
        "error_rate = []\n",
        "\n",
        "for i in range(1,60):\n",
        "  knn = KNeighborsClassifier(n_neighbors=i, metric= 'hamming')\n",
        "  knn.fit(X_train, y_train)\n",
        "  pred_i = knn.predict(X_test)\n",
        "  error_rate.append(1-metrics.f1_score(y_test, pred_i))\n",
        "              \n",
        "\n",
        "import matplotlib.pyplot as plt\n",
        "\n",
        "plt.figure(figsize = (10, 6))\n",
        "plt.plot(range(1,60), error_rate, color = 'blue', linestyle = 'dashed', marker = 'o')\n",
        "plt.xlabel('K')\n",
        "plt.ylabel('Error rate')"
      ],
      "metadata": {
        "colab": {
          "base_uri": "https://localhost:8080/",
          "height": 406
        },
        "id": "59XnoKyK5s5V",
        "outputId": "2cb623e9-88c6-4f16-fd8d-d9513beae81b"
      },
      "execution_count": null,
      "outputs": [
        {
          "output_type": "execute_result",
          "data": {
            "text/plain": [
              "Text(0, 0.5, 'Error rate')"
            ]
          },
          "metadata": {},
          "execution_count": 18
        },
        {
          "output_type": "display_data",
          "data": {
            "text/plain": [
              "<Figure size 720x432 with 1 Axes>"
            ],
            "image/png": "[encoded data removed]"
          },
          "metadata": {
            "needs_background": "light"
          }
        }
      ]
    },
    {
      "cell_type": "code",
      "source": [
        "conf_mtrx = confusion_matrix(y_test, y_pred)\n",
        "tn, fp, fn, tp = conf_mtrx.ravel() \n",
        "\n",
        "sns.heatmap(conf_mtrx, annot = True);"
      ],
      "metadata": {
        "colab": {
          "base_uri": "https://localhost:8080/",
          "height": 265
        },
        "outputId": "2273e2a7-f5b8-415b-be4d-6b762630e348",
        "id": "21iWBQMkwTwj"
      },
      "execution_count": null,
      "outputs": [
        {
          "output_type": "display_data",
          "data": {
            "text/plain": [
              "<Figure size 432x288 with 2 Axes>"
            ],
            "image/png": "[encoded data removed]"
          },
          "metadata": {
            "needs_background": "light"
          }
        }
      ]
    },
    {
      "cell_type": "markdown",
      "source": [
        "- **Observamos valores de sensitividad, especificitividad y f1 que reflejan un rendimiento aceptable. Es sensible a los outliers demasiado alejados.**\n",
        "\n",
        "- **La matriz de confusión muestra un valor de FN (6) elevado para nuestro caso de uso.**\n",
        "\n",
        "- **Vamos a utilizar el método GridSearch, a través de diferentes rangos de parámetros, para obtener el mejor resultado teórico de este modelo:**"
      ],
      "metadata": {
        "id": "AinxrOKmYELF"
      }
    },
    {
      "cell_type": "code",
      "source": [
        "parameters = {'n_neighbors': [1, 2, 3, 4, 5, 6, 7, 8, 9, 10, 11],\n",
        "              'weights': ['uniform', 'distance'],\n",
        "              'leaf_size': ['10', '20', '30', '40']\n",
        "              }\n",
        "\n",
        "# Define model\n",
        "model_3_2 = KNeighborsClassifier()\n",
        "# Train model\n",
        "model_3_2_gs = GridSearchCV(model_3_2, parameters)\n",
        "model_3_2_gs.fit(X_train, y_train);"
      ],
      "metadata": {
        "id": "oe2CuPpmieMA"
      },
      "execution_count": null,
      "outputs": []
    },
    {
      "cell_type": "code",
      "source": [
        "model_3_2_gs.best_estimator_"
      ],
      "metadata": {
        "colab": {
          "base_uri": "https://localhost:8080/"
        },
        "id": "Qg879Zs6ieO5",
        "outputId": "541fe12e-2b7c-4437-d801-71876ceec316"
      },
      "execution_count": null,
      "outputs": [
        {
          "output_type": "execute_result",
          "data": {
            "text/plain": [
              "KNeighborsClassifier(leaf_size='10', n_neighbors=10, weights='distance')"
            ]
          },
          "metadata": {},
          "execution_count": 21
        }
      ]
    },
    {
      "cell_type": "code",
      "source": [
        "model_3_2_gs.best_score_"
      ],
      "metadata": {
        "colab": {
          "base_uri": "https://localhost:8080/"
        },
        "id": "PPYQXFX6pLXx",
        "outputId": "be0cd6c6-8ee2-4d0e-cb39-22e5b9e4da33"
      },
      "execution_count": null,
      "outputs": [
        {
          "output_type": "execute_result",
          "data": {
            "text/plain": [
              "0.9922779922779924"
            ]
          },
          "metadata": {},
          "execution_count": 22
        }
      ]
    },
    {
      "cell_type": "code",
      "source": [
        "#### Model 3_2\n",
        "model_3_2 = KNeighborsClassifier(leaf_size='10', n_neighbors=10, weights='distance')\n",
        "\n",
        "# Train model\n",
        "model_3_2.fit(X_train, y_train)\n",
        "\n",
        "# Predict \n",
        "y_pred = model_3_2.predict(X_test)\n",
        "\n",
        "# Eval model\n",
        "compute_metrics(model_3_2, X_test, y_test, y_pred)"
      ],
      "metadata": {
        "colab": {
          "base_uri": "https://localhost:8080/"
        },
        "id": "TbE_kuSeieSm",
        "outputId": "57e92b02-a6ba-41e9-9da9-e35e4fe84415"
      },
      "execution_count": null,
      "outputs": [
        {
          "output_type": "stream",
          "name": "stdout",
          "text": [
            "Train/Test split results:\n",
            "KNeighborsClassifier accuracy is 0.991\n",
            "KNeighborsClassifier auc is 0.991\n",
            "KNeighborsClassifier Sensitivity is 0.970\n",
            "KNeighborsClassifier Specificity is 0.996\n",
            "KNeighborsClassifier F1 is 0.975\n"
          ]
        }
      ]
    },
    {
      "cell_type": "markdown",
      "source": [
        "- **El resultado obtenido con las indicaciones de GridSearch no mejora a nuestro modelo inicial de KNN. Seguramente es necesario probar con una mayor diversidad de parámetros.**"
      ],
      "metadata": {
        "id": "0AxdP4JVh1_Y"
      }
    },
    {
      "cell_type": "markdown",
      "source": [
        "###Decision Tree\n",
        "\n",
        "- Funciona dividiendo primero el conjunto de entrenamiento en dos subconjuntos mediante una característica y un umbral. Tras la primera división, divide los subconjuntos empleando la misma lógica y así sucesivamente. Deja de repetir la operación cuando alcanza la profundidad máxima (definida por el parámetro max_depth) o si no puede encontrar una división que reduzca la impureza (si introdujéramos el parámetro criterion = 'entropy').\n",
        "\n",
        "- Marcamos 'gini' como criterio de modelado al haber resuelto mejor F1 que \"entropy\". Al igual que los parámetros splitter = 'best' y max_depth = 6.\n",
        "\n",
        "- Tras varias pruebas con otros parámetros de detención, optamos por fijar únicamente los valores de separación de las muestras (min_samples_split = 2, min_samples_leaf = 3)."
      ],
      "metadata": {
        "id": "QExqYmIJwqkC"
      }
    },
    {
      "cell_type": "code",
      "source": [
        "model_4 = DecisionTreeClassifier(criterion = 'gini', random_state = 1234, \n",
        "                                 splitter = 'best', max_depth = 6, \n",
        "                                 min_samples_split = 2, min_samples_leaf = 3\n",
        "                                 )\n",
        "\n",
        "# Train model\n",
        "model_4.fit(X_train, y_train)\n",
        "\n",
        "# Predict \n",
        "y_pred = model_4.predict(X_test)\n",
        "\n",
        "# Eval model\n",
        "compute_metrics(model_4, X_test, y_test, y_pred)"
      ],
      "metadata": {
        "colab": {
          "base_uri": "https://localhost:8080/"
        },
        "id": "bxn4DTY2CsVq",
        "outputId": "6d160d7e-c950-40bb-f43c-396fadd54033"
      },
      "execution_count": null,
      "outputs": [
        {
          "output_type": "stream",
          "name": "stdout",
          "text": [
            "Train/Test split results:\n",
            "DecisionTreeClassifier accuracy is 0.986\n",
            "DecisionTreeClassifier auc is 0.986\n",
            "DecisionTreeClassifier Sensitivity is 0.965\n",
            "DecisionTreeClassifier Specificity is 0.990\n",
            "DecisionTreeClassifier F1 is 0.961\n"
          ]
        }
      ]
    },
    {
      "cell_type": "code",
      "source": [
        "conf_mtrx = confusion_matrix(y_test, y_pred)\n",
        "tn, fp, fn, tp = conf_mtrx.ravel() \n",
        "\n",
        "sns.heatmap(conf_mtrx, annot = True)"
      ],
      "metadata": {
        "colab": {
          "base_uri": "https://localhost:8080/",
          "height": 287
        },
        "outputId": "6a7e8ebb-f7ba-4e5b-fd23-0d172e1da801",
        "id": "Wu4eVF9cwOEE"
      },
      "execution_count": null,
      "outputs": [
        {
          "output_type": "execute_result",
          "data": {
            "text/plain": [
              "<matplotlib.axes._subplots.AxesSubplot at 0x7fe7dd350890>"
            ]
          },
          "metadata": {},
          "execution_count": 25
        },
        {
          "output_type": "display_data",
          "data": {
            "text/plain": [
              "<Figure size 432x288 with 2 Axes>"
            ],
            "image/png": "[encoded data removed]"
          },
          "metadata": {
            "needs_background": "light"
          }
        }
      ]
    },
    {
      "cell_type": "markdown",
      "source": [
        "- **Observamos valores de sensitividad, especificitividad y f1 que reflejan un teórico peor rendimiento en la clasificación que la regresión logística o KNN. Como en un principio era previsible, dada la naturaleza del modelo.**\n",
        "\n",
        "- **La matriz de confusión muestra valores de FP y FN algo elevados para nuestro caso de uso.**\n",
        "\n",
        "- **Vamos a utilizar el método GridSearch, a través de diferentes rangos de parámetros, para obtener el mejor resultado teórico de este modelo:**"
      ],
      "metadata": {
        "id": "2SRz1sMbmoal"
      }
    },
    {
      "cell_type": "code",
      "source": [
        "parameters = {'criterion': ['gini', 'entropy'],\n",
        "              'splitter': ['best', 'random'],\n",
        "              'max_depth': [1, 2, 3, 4, 5],\n",
        "              'min_samples_split': [1, 2, 3, 4, 5],\n",
        "              'min_samples_leaf': [1, 2, 3, 4, 5]\n",
        "              }\n",
        "\n",
        "# Define model\n",
        "model_4_2 = DecisionTreeClassifier()\n",
        "# Train model\n",
        "model_4_2_gs = GridSearchCV(model_4_2, parameters)\n",
        "model_4_2_gs.fit(X_train, y_train);"
      ],
      "metadata": {
        "colab": {
          "base_uri": "https://localhost:8080/"
        },
        "outputId": "8079efb7-9b57-42bf-cb51-5d10412f8bd6",
        "id": "Dtgxa8W1-Yyt"
      },
      "execution_count": null,
      "outputs": [
        {
          "output_type": "stream",
          "name": "stderr",
          "text": [
            "/usr/local/lib/python3.7/dist-packages/sklearn/model_selection/_validation.py:372: FitFailedWarning: \n",
            "500 fits failed out of a total of 2500.\n",
            "The score on these train-test partitions for these parameters will be set to nan.\n",
            "If these failures are not expected, you can try to debug them by setting error_score='raise'.\n",
            "\n",
            "Below are more details about the failures:\n",
            "--------------------------------------------------------------------------------\n",
            "500 fits failed with the following error:\n",
            "Traceback (most recent call last):\n",
            "  File \"/usr/local/lib/python3.7/dist-packages/sklearn/model_selection/_validation.py\", line 680, in _fit_and_score\n",
            "    estimator.fit(X_train, y_train, **fit_params)\n",
            "  File \"/usr/local/lib/python3.7/dist-packages/sklearn/tree/_classes.py\", line 942, in fit\n",
            "    X_idx_sorted=X_idx_sorted,\n",
            "  File \"/usr/local/lib/python3.7/dist-packages/sklearn/tree/_classes.py\", line 254, in fit\n",
            "    % self.min_samples_split\n",
            "ValueError: min_samples_split must be an integer greater than 1 or a float in (0.0, 1.0]; got the integer 1\n",
            "\n",
            "  warnings.warn(some_fits_failed_message, FitFailedWarning)\n",
            "/usr/local/lib/python3.7/dist-packages/sklearn/model_selection/_search.py:972: UserWarning: One or more of the test scores are non-finite: [       nan        nan 0.97297297 0.94633205 0.97297297 0.92625483\n",
            " 0.97297297 0.94440154 0.97297297 0.94131274        nan        nan\n",
            " 0.97297297 0.96100386 0.97297297 0.94131274 0.97297297 0.94208494\n",
            " 0.97297297 0.93011583        nan        nan 0.97297297 0.93088803\n",
            " 0.97297297 0.94247104 0.97297297 0.9015444  0.97297297 0.94247104\n",
            "        nan        nan 0.97297297 0.92277992 0.97297297 0.93474903\n",
            " 0.97297297 0.94092664 0.97297297 0.93783784        nan        nan\n",
            " 0.97297297 0.94324324 0.97297297 0.95482625 0.97297297 0.92895753\n",
            " 0.97297297 0.93397683        nan        nan 0.97683398 0.96138996\n",
            " 0.97683398 0.95521236 0.97683398 0.96525097 0.97683398 0.96602317\n",
            "        nan        nan 0.97683398 0.96679537 0.97683398 0.96177606\n",
            " 0.97683398 0.95675676 0.97683398 0.96409266        nan        nan\n",
            " 0.97683398 0.95637066 0.97683398 0.96023166 0.97683398 0.94942085\n",
            " 0.97683398 0.96370656        nan        nan 0.97683398 0.95521236\n",
            " 0.97683398 0.96332046 0.97683398 0.95173745 0.97683398 0.95791506\n",
            "        nan        nan 0.97683398 0.96332046 0.97683398 0.97027027\n",
            " 0.97683398 0.95984556 0.97683398 0.96679537        nan        nan\n",
            " 0.97567568 0.97027027 0.97567568 0.97142857 0.97644788 0.96756757\n",
            " 0.97606178 0.97220077        nan        nan 0.97567568 0.97220077\n",
            " 0.97644788 0.97065637 0.97567568 0.97142857 0.97451737 0.97413127\n",
            "        nan        nan 0.97490347 0.96949807 0.97490347 0.97374517\n",
            " 0.97490347 0.97297297 0.97490347 0.96988417        nan        nan\n",
            " 0.97528958 0.96795367 0.97528958 0.97027027 0.97528958 0.97027027\n",
            " 0.97528958 0.97142857        nan        nan 0.97567568 0.97027027\n",
            " 0.97567568 0.97760618 0.97567568 0.97220077 0.97567568 0.96640927\n",
            "        nan        nan 0.97760618 0.97528958 0.97683398 0.97027027\n",
            " 0.97644788 0.97760618 0.97722008 0.97606178        nan        nan\n",
            " 0.97528958 0.97799228 0.97528958 0.97644788 0.97606178 0.97760618\n",
            " 0.97528958 0.97644788        nan        nan 0.97567568 0.98030888\n",
            " 0.97567568 0.97876448 0.97567568 0.97683398 0.97567568 0.97567568\n",
            "        nan        nan 0.97837838 0.97181467 0.97760618 0.98223938\n",
            " 0.97644788 0.98069498 0.97722008 0.97567568        nan        nan\n",
            " 0.97799228 0.97953668 0.97876448 0.97683398 0.97915058 0.97606178\n",
            " 0.97915058 0.97065637        nan        nan 0.97799228 0.98030888\n",
            " 0.97722008 0.97528958 0.97837838 0.97760618 0.97953668 0.98030888\n",
            "        nan        nan 0.97644788 0.97722008 0.97567568 0.97837838\n",
            " 0.97606178 0.97992278 0.97683398 0.97876448        nan        nan\n",
            " 0.97606178 0.97876448 0.97490347 0.97837838 0.97528958 0.97953668\n",
            " 0.97451737 0.97567568        nan        nan 0.97528958 0.97876448\n",
            " 0.97528958 0.97528958 0.97528958 0.97528958 0.97644788 0.97837838\n",
            "        nan        nan 0.97722008 0.97722008 0.97722008 0.97374517\n",
            " 0.97799228 0.97490347 0.97683398 0.97953668        nan        nan\n",
            " 0.97104247 0.93783784 0.97104247 0.91428571 0.97104247 0.94826255\n",
            " 0.97104247 0.93783784        nan        nan 0.97104247 0.92586873\n",
            " 0.97104247 0.92316602 0.97104247 0.95328185 0.97104247 0.91467181\n",
            "        nan        nan 0.97104247 0.92393822 0.97104247 0.93938224\n",
            " 0.97104247 0.91814672 0.97104247 0.88764479        nan        nan\n",
            " 0.97104247 0.94285714 0.97104247 0.92664093 0.97104247 0.93861004\n",
            " 0.97104247 0.92393822        nan        nan 0.97104247 0.95289575\n",
            " 0.97104247 0.94594595 0.97104247 0.93783784 0.97104247 0.93281853\n",
            "        nan        nan 0.97104247 0.93976834 0.97104247 0.96525097\n",
            " 0.97104247 0.96795367 0.97104247 0.95598456        nan        nan\n",
            " 0.97104247 0.96061776 0.97104247 0.95791506 0.97104247 0.95752896\n",
            " 0.97104247 0.96563707        nan        nan 0.97104247 0.96293436\n",
            " 0.97104247 0.94517375 0.97104247 0.95212355 0.97104247 0.96525097\n",
            "        nan        nan 0.97104247 0.95289575 0.97104247 0.95907336\n",
            " 0.97104247 0.96216216 0.97104247 0.96949807        nan        nan\n",
            " 0.97104247 0.96602317 0.97104247 0.95637066 0.97104247 0.95752896\n",
            " 0.97104247 0.96061776        nan        nan 0.97451737 0.96563707\n",
            " 0.97528958 0.97220077 0.97528958 0.96602317 0.97451737 0.97683398\n",
            "        nan        nan 0.97606178 0.97683398 0.97606178 0.97142857\n",
            " 0.97528958 0.97142857 0.97528958 0.96756757        nan        nan\n",
            " 0.97528958 0.97722008 0.97490347 0.97567568 0.97567568 0.96988417\n",
            " 0.97528958 0.96872587        nan        nan 0.97528958 0.97374517\n",
            " 0.97606178 0.96911197 0.97606178 0.97335907 0.97528958 0.97181467\n",
            "        nan        nan 0.97490347 0.97181467 0.97490347 0.97413127\n",
            " 0.97490347 0.97722008 0.97490347 0.96872587        nan        nan\n",
            " 0.98030888 0.97567568 0.97992278 0.97451737 0.97915058 0.97799228\n",
            " 0.97992278 0.97528958        nan        nan 0.97992278 0.97644788\n",
            " 0.97953668 0.97451737 0.97992278 0.97644788 0.97992278 0.97799228\n",
            "        nan        nan 0.97992278 0.97258687 0.97953668 0.97992278\n",
            " 0.97953668 0.97915058 0.97992278 0.97528958        nan        nan\n",
            " 0.98069498 0.97915058 0.98069498 0.97683398 0.98069498 0.97567568\n",
            " 0.98069498 0.97837838        nan        nan 0.98030888 0.97374517\n",
            " 0.98030888 0.97722008 0.98030888 0.97528958 0.98030888 0.97722008\n",
            "        nan        nan 0.98223938 0.97335907 0.98146718 0.97876448\n",
            " 0.98185328 0.98108108 0.98185328 0.97837838        nan        nan\n",
            " 0.98185328 0.97722008 0.97915058 0.97837838 0.98108108 0.97760618\n",
            " 0.98185328 0.97876448        nan        nan 0.98146718 0.98030888\n",
            " 0.98146718 0.98301158 0.98108108 0.97760618 0.98069498 0.97915058\n",
            "        nan        nan 0.98223938 0.98185328 0.98108108 0.97953668\n",
            " 0.98146718 0.97644788 0.98146718 0.98108108        nan        nan\n",
            " 0.97953668 0.97528958 0.97953668 0.97606178 0.97953668 0.97606178\n",
            " 0.97953668 0.97953668]\n",
            "  category=UserWarning,\n"
          ]
        }
      ]
    },
    {
      "cell_type": "code",
      "source": [
        "model_4_2_gs.best_estimator_"
      ],
      "metadata": {
        "colab": {
          "base_uri": "https://localhost:8080/"
        },
        "outputId": "456a05ba-d04a-4a23-f1f4-bc9a8680b5e7",
        "id": "G04R-Foc-Yyt"
      },
      "execution_count": null,
      "outputs": [
        {
          "output_type": "execute_result",
          "data": {
            "text/plain": [
              "DecisionTreeClassifier(criterion='entropy', max_depth=5, min_samples_leaf=3,\n",
              "                       min_samples_split=3, splitter='random')"
            ]
          },
          "metadata": {},
          "execution_count": 27
        }
      ]
    },
    {
      "cell_type": "code",
      "source": [
        "model_4_2_gs.best_score_"
      ],
      "metadata": {
        "colab": {
          "base_uri": "https://localhost:8080/"
        },
        "outputId": "458d6925-fcfd-4bf0-fd1c-5816019c4609",
        "id": "tIUKXZ9c-Yyt"
      },
      "execution_count": null,
      "outputs": [
        {
          "output_type": "execute_result",
          "data": {
            "text/plain": [
              "0.983011583011583"
            ]
          },
          "metadata": {},
          "execution_count": 28
        }
      ]
    },
    {
      "cell_type": "code",
      "source": [
        "#### Model 4_2\n",
        "model_4_2 = DecisionTreeClassifier(criterion='entropy', max_depth=5, min_samples_leaf=5,\n",
        "                       min_samples_split=5, splitter='random')\n",
        "\n",
        "# Train model\n",
        "model_4_2.fit(X_train, y_train)\n",
        "\n",
        "# Predict \n",
        "y_pred = model_4_2.predict(X_test)\n",
        "\n",
        "# Eval model\n",
        "compute_metrics(model_4_2, X_test, y_test, y_pred)"
      ],
      "metadata": {
        "colab": {
          "base_uri": "https://localhost:8080/"
        },
        "outputId": "949f3041-02c4-4d43-fb77-81c362caf63c",
        "id": "U8M-51VK-Yyu"
      },
      "execution_count": null,
      "outputs": [
        {
          "output_type": "stream",
          "name": "stdout",
          "text": [
            "Train/Test split results:\n",
            "DecisionTreeClassifier accuracy is 0.982\n",
            "DecisionTreeClassifier auc is 0.989\n",
            "DecisionTreeClassifier Sensitivity is 0.936\n",
            "DecisionTreeClassifier Specificity is 0.992\n",
            "DecisionTreeClassifier F1 is 0.950\n"
          ]
        }
      ]
    },
    {
      "cell_type": "markdown",
      "source": [
        "- **El resultado obtenido con las indicaciones de GridSearch no mejora a nuestro modelo inicial de Decision Tree. Seguramente es necesario probar con mayor diversidad de parámetros.**"
      ],
      "metadata": {
        "id": "BLcqEQi8qKqx"
      }
    },
    {
      "cell_type": "markdown",
      "source": [
        "###Random Forest\n",
        "\n",
        "- Consiste en utilizar una característica muy fuerte de nuestro conjunto de datos, como división superior entre diferentes árboles de decisión, que a su vez emiten una predicción. \n",
        "\n",
        "- Puede utilizarse para tareas de clasificación o regresión. Al realizar una tarea de clasificación, cada árbol de decisión del bosque aleatorio vota por una de las clases a las que pertenece la entrada.\n",
        "\n",
        "- Para nuestro modelo inicial establecemos unos determinados valores de estimadores, variables, muestreo o detención, que han demostrado ser eficaces en nuestras pruebas:"
      ],
      "metadata": {
        "id": "Sz3j9xqWfWz5"
      }
    },
    {
      "cell_type": "code",
      "source": [
        "model_5 = RandomForestClassifier(random_state = 1234, n_estimators = 100, max_features = 7, \n",
        "                                 bootstrap = True, min_samples_split = 4, max_samples = 0.45)\n",
        "\n",
        "# Train model\n",
        "model_5.fit(X_train, y_train)\n",
        "\n",
        "# Predict \n",
        "y_pred = model_5.predict(X_test)\n",
        "\n",
        "# Eval model\n",
        "compute_metrics(model_5, X_test, y_test, y_pred)"
      ],
      "metadata": {
        "colab": {
          "base_uri": "https://localhost:8080/"
        },
        "id": "b_fCT2XGmyUQ",
        "outputId": "fc14b3ca-89b6-41d8-861d-d23ba9f66483"
      },
      "execution_count": null,
      "outputs": [
        {
          "output_type": "stream",
          "name": "stdout",
          "text": [
            "Train/Test split results:\n",
            "RandomForestClassifier accuracy is 0.995\n",
            "RandomForestClassifier auc is 0.999\n",
            "RandomForestClassifier Sensitivity is 0.985\n",
            "RandomForestClassifier Specificity is 0.997\n",
            "RandomForestClassifier F1 is 0.985\n"
          ]
        }
      ]
    },
    {
      "cell_type": "code",
      "source": [
        "conf_mtrx = confusion_matrix(y_test, y_pred)\n",
        "tn, fp, fn, tp = conf_mtrx.ravel() \n",
        "\n",
        "sns.heatmap(conf_mtrx, annot = True)"
      ],
      "metadata": {
        "colab": {
          "base_uri": "https://localhost:8080/",
          "height": 283
        },
        "outputId": "cfe7382b-5f5f-44ed-a7ff-21a68487c11b",
        "id": "bxv2lj00DefF"
      },
      "execution_count": null,
      "outputs": [
        {
          "output_type": "execute_result",
          "data": {
            "text/plain": [
              "<matplotlib.axes._subplots.AxesSubplot at 0x7fe7dd3b0f50>"
            ]
          },
          "metadata": {},
          "execution_count": 31
        },
        {
          "output_type": "display_data",
          "data": {
            "text/plain": [
              "<Figure size 432x288 with 2 Axes>"
            ],
            "image/png": "[encoded data removed]"
          },
          "metadata": {
            "needs_background": "light"
          }
        }
      ]
    },
    {
      "cell_type": "markdown",
      "source": [
        "- **Comprobamos mejores valores de sensitividad, especificitividad y f1 que en el resto de modelos (Regresión Logística, Naive Bayes, KNN y Árbol de decisión).**\n",
        "\n",
        "- **La votación resultante de la suma de las predicciones de diversos árboles de decisión, suele mejorar la de cada uno de ellos por separado.**\n",
        "\n",
        "- **La matriz de confusión muestra valores de FP y FN muy razonables para nuestro caso de uso. Con un índice de acierto elevado.**\n",
        "\n",
        "- **Vamos a utilizar el método GridSearch, a través de diferentes rangos de parámetros, para obtener el mejor resultado teórico de este modelo:**"
      ],
      "metadata": {
        "id": "EsfXujy_s4PN"
      }
    },
    {
      "cell_type": "code",
      "source": [
        "parameters = {'max_features': [6, 7, 8],\n",
        "              'min_samples_split': [3, 4, 5],\n",
        "              'max_samples': [0.40, 0.45, 0.5]\n",
        "              }\n",
        "\n",
        "# Define model\n",
        "model_5_2 = RandomForestClassifier()\n",
        "# Train model\n",
        "model_5_2_gs = GridSearchCV(model_5_2, parameters)\n",
        "model_5_2_gs.fit(X_train, y_train);"
      ],
      "metadata": {
        "id": "nYO9GBbbDefK"
      },
      "execution_count": null,
      "outputs": []
    },
    {
      "cell_type": "code",
      "source": [
        "model_5_2_gs.best_estimator_"
      ],
      "metadata": {
        "colab": {
          "base_uri": "https://localhost:8080/"
        },
        "outputId": "f366b28b-9e5c-498f-98f2-dce9f60a3917",
        "id": "MTVHMcEwDefK"
      },
      "execution_count": null,
      "outputs": [
        {
          "output_type": "execute_result",
          "data": {
            "text/plain": [
              "RandomForestClassifier(max_features=6, max_samples=0.4, min_samples_split=4)"
            ]
          },
          "metadata": {},
          "execution_count": 33
        }
      ]
    },
    {
      "cell_type": "code",
      "source": [
        "model_5_2_gs.best_score_"
      ],
      "metadata": {
        "colab": {
          "base_uri": "https://localhost:8080/"
        },
        "outputId": "7f9f278d-0a5c-4d4e-8113-d1c8ec748437",
        "id": "zmdOQggJDefK"
      },
      "execution_count": null,
      "outputs": [
        {
          "output_type": "execute_result",
          "data": {
            "text/plain": [
              "0.9895752895752896"
            ]
          },
          "metadata": {},
          "execution_count": 34
        }
      ]
    },
    {
      "cell_type": "code",
      "source": [
        "#### Model 5_2\n",
        "model_5_2 = RandomForestClassifier(max_features=7, max_samples=0.5, min_samples_split=5)\n",
        "\n",
        "# Train model\n",
        "model_5_2.fit(X_train, y_train)\n",
        "\n",
        "# Predict \n",
        "y_pred = model_5_2.predict(X_test)\n",
        "\n",
        "# Eval model\n",
        "compute_metrics(model_5_2, X_test, y_test, y_pred)"
      ],
      "metadata": {
        "colab": {
          "base_uri": "https://localhost:8080/"
        },
        "outputId": "f55f8794-e8c3-423b-8733-e720a8cf5d0b",
        "id": "qFVMisf2DefK"
      },
      "execution_count": null,
      "outputs": [
        {
          "output_type": "stream",
          "name": "stdout",
          "text": [
            "Train/Test split results:\n",
            "RandomForestClassifier accuracy is 0.991\n",
            "RandomForestClassifier auc is 0.999\n",
            "RandomForestClassifier Sensitivity is 0.975\n",
            "RandomForestClassifier Specificity is 0.994\n",
            "RandomForestClassifier F1 is 0.975\n"
          ]
        }
      ]
    },
    {
      "cell_type": "markdown",
      "source": [
        "- **El resultado obtenido con las indicaciones de GridSearch no mejora a nuestro modelo inicial de Random Forest. Seguramente es necesario probar con una mayor diversidad de parámetros.**"
      ],
      "metadata": {
        "id": "xedgRyG_xw5n"
      }
    },
    {
      "cell_type": "markdown",
      "source": [
        "###Adaboost\n",
        "\n",
        "- Construye una clasificación fuerte mediante la combinación de múltiples modelos de bajo rendimiento, de modo que se obtiene un clasificador fuerte de alta precisión. Lo consigue estableciendo los pesos de los clasificadores y el entrenamiento de la muestra de datos en cada iteración. De tal manera que asegura las predicciones precisas de las observaciones inusuales. \n",
        "\n",
        "- Cualquier algoritmo de aprendizaje automático puede utilizarse como clasificador base si acepta pesos en el conjunto de entrenamiento.\n",
        "\n",
        "- Para nuestro modelo inicial establecemos unos determinados valores de estimadores e indice de aprendizaje, que han demostrado ser eficaces en nuestras pruebas:"
      ],
      "metadata": {
        "id": "kEhb0oUPKAwf"
      }
    },
    {
      "cell_type": "code",
      "source": [
        "# Define model\n",
        "model_6 = AdaBoostClassifier(random_state = 1234, n_estimators = 60, learning_rate = 0.9)\n",
        "# Train model\n",
        "model_6.fit(X_train, y_train)\n",
        "\n",
        "# Predict \n",
        "y_pred = model_6.predict(X_test)\n",
        "\n",
        "# Eval model\n",
        "compute_metrics(model_6, X_test, y_test, y_pred)"
      ],
      "metadata": {
        "id": "vRC8SafoUCdX",
        "colab": {
          "base_uri": "https://localhost:8080/"
        },
        "outputId": "9f3570e9-ebf6-41a8-ea08-38b0ccefa21f"
      },
      "execution_count": null,
      "outputs": [
        {
          "output_type": "stream",
          "name": "stdout",
          "text": [
            "Train/Test split results:\n",
            "AdaBoostClassifier accuracy is 0.993\n",
            "AdaBoostClassifier auc is 0.997\n",
            "AdaBoostClassifier Sensitivity is 0.975\n",
            "AdaBoostClassifier Specificity is 0.997\n",
            "AdaBoostClassifier F1 is 0.980\n"
          ]
        }
      ]
    },
    {
      "cell_type": "code",
      "source": [
        "conf_mtrx = confusion_matrix(y_test, y_pred)\n",
        "tn, fp, fn, tp = conf_mtrx.ravel() \n",
        "\n",
        "sns.heatmap(conf_mtrx, annot = True)"
      ],
      "metadata": {
        "colab": {
          "base_uri": "https://localhost:8080/",
          "height": 283
        },
        "outputId": "d5909109-f0cc-4f64-f238-2465345d409f",
        "id": "yM1nEXWzL-DV"
      },
      "execution_count": null,
      "outputs": [
        {
          "output_type": "execute_result",
          "data": {
            "text/plain": [
              "<matplotlib.axes._subplots.AxesSubplot at 0x7fe7dd57d1d0>"
            ]
          },
          "metadata": {},
          "execution_count": 37
        },
        {
          "output_type": "display_data",
          "data": {
            "text/plain": [
              "<Figure size 432x288 with 2 Axes>"
            ],
            "image/png": "[encoded data removed]"
          },
          "metadata": {
            "needs_background": "light"
          }
        }
      ]
    },
    {
      "cell_type": "markdown",
      "source": [
        "- **Observamos valores razonables de sensitividad, especificitividad y f1 para nuestro caso de uso. La simplificación de sus parámetros lo convierte en un modelo de referencia.**\n",
        "\n",
        "- **La matriz de confusión muestra valores de FP y FN favorables para nuestro caso de uso. Con un índice de acierto elevado.**\n",
        "\n",
        "- **Vamos a utilizar el método GridSearch, a través de diferentes rangos de parámetros, para obtener el mejor resultado teórico de este modelo:**"
      ],
      "metadata": {
        "id": "NLJB5iO78v_J"
      }
    },
    {
      "cell_type": "code",
      "source": [
        "parameters = {'n_estimators': [50, 60, 70],\n",
        "              'learning_rate': [0.9, 1.0, 1.2]\n",
        "              }\n",
        "\n",
        "# Define model\n",
        "model_6_2 = AdaBoostClassifier()\n",
        "# Train model\n",
        "model_6_2_gs = GridSearchCV(model_6_2, parameters)\n",
        "model_6_2_gs.fit(X_train, y_train);"
      ],
      "metadata": {
        "id": "aFT-03rnL-Da"
      },
      "execution_count": null,
      "outputs": []
    },
    {
      "cell_type": "code",
      "source": [
        "model_6_2_gs.best_estimator_"
      ],
      "metadata": {
        "colab": {
          "base_uri": "https://localhost:8080/"
        },
        "outputId": "5f9c04ed-c45e-4944-cfa5-e18a9a7c1916",
        "id": "SS9-reExL-Da"
      },
      "execution_count": null,
      "outputs": [
        {
          "output_type": "execute_result",
          "data": {
            "text/plain": [
              "AdaBoostClassifier(learning_rate=1.2, n_estimators=60)"
            ]
          },
          "metadata": {},
          "execution_count": 39
        }
      ]
    },
    {
      "cell_type": "code",
      "source": [
        "model_6_2_gs.best_score_"
      ],
      "metadata": {
        "colab": {
          "base_uri": "https://localhost:8080/"
        },
        "outputId": "7126422c-fb1e-48d1-e746-0aa669e7e3bf",
        "id": "3AbNZkLSL-Da"
      },
      "execution_count": null,
      "outputs": [
        {
          "output_type": "execute_result",
          "data": {
            "text/plain": [
              "0.9907335907335908"
            ]
          },
          "metadata": {},
          "execution_count": 40
        }
      ]
    },
    {
      "cell_type": "code",
      "source": [
        "#### Model 6_2\n",
        "model_6_2 = AdaBoostClassifier(learning_rate=1.2, n_estimators=60)\n",
        "\n",
        "# Train model\n",
        "model_6_2.fit(X_train, y_train)\n",
        "\n",
        "# Predict \n",
        "y_pred = model_6_2.predict(X_test)\n",
        "\n",
        "# Eval model\n",
        "compute_metrics(model_6_2, X_test, y_test, y_pred)"
      ],
      "metadata": {
        "colab": {
          "base_uri": "https://localhost:8080/"
        },
        "outputId": "e0712279-a42d-4d24-e02a-0bffe0ec1407",
        "id": "C3gu_TnrL-Da"
      },
      "execution_count": null,
      "outputs": [
        {
          "output_type": "stream",
          "name": "stdout",
          "text": [
            "Train/Test split results:\n",
            "AdaBoostClassifier accuracy is 0.992\n",
            "AdaBoostClassifier auc is 0.997\n",
            "AdaBoostClassifier Sensitivity is 0.970\n",
            "AdaBoostClassifier Specificity is 0.997\n",
            "AdaBoostClassifier F1 is 0.978\n"
          ]
        }
      ]
    },
    {
      "cell_type": "markdown",
      "source": [
        "- **El resultado obtenido con las indicaciones de GridSearch no mejora a nuestro modelo inicial de Adaboost. Seguramente es necesario probar con una mayor diversidad de parámetros.**"
      ],
      "metadata": {
        "id": "xWjbGIGZ-Qhs"
      }
    },
    {
      "cell_type": "markdown",
      "source": [
        "###XGBOOST\n",
        "\n",
        "- Está basado en el algoritmo de árboles de decisión con gradiente. Consiste en aplicar una técnica de regularización mejor para reducir el sobreajuste. Puede manejar valores faltantes y tiene integrado el método de validación cruzada. \n",
        "\n",
        "- Para nuestro modelo inicial establecemos unos determinados valores de estimadores y profundidad máxima, que han demostrado ser eficaces en nuestras pruebas:"
      ],
      "metadata": {
        "id": "BsSf_vYONYKa"
      }
    },
    {
      "cell_type": "code",
      "source": [
        "# Define model\n",
        "model_7 = XGBClassifier(random_state = 1234, max_depth = 3, n_estimators= 120)\n",
        "\n",
        "# Train model\n",
        "model_7.fit(X_train, y_train, eval_set = [(X_train, y_train),(X_test, y_test)])\n",
        "\n",
        "# Predict \n",
        "y_pred = model_7.predict(X_test)\n",
        "\n",
        "# Eval model\n",
        "compute_metrics(model_7, X_test, y_test, y_pred)"
      ],
      "metadata": {
        "id": "1PISiuFPUCf9",
        "colab": {
          "base_uri": "https://localhost:8080/"
        },
        "outputId": "a32cbd04-0443-4228-a52e-843ef508826c"
      },
      "execution_count": null,
      "outputs": [
        {
          "output_type": "stream",
          "name": "stdout",
          "text": [
            "[0]\tvalidation_0-error:0.015058\tvalidation_1-error:0.018902\n",
            "[1]\tvalidation_0-error:0.015058\tvalidation_1-error:0.018902\n",
            "[2]\tvalidation_0-error:0.015058\tvalidation_1-error:0.018902\n",
            "[3]\tvalidation_0-error:0.014286\tvalidation_1-error:0.016202\n",
            "[4]\tvalidation_0-error:0.012741\tvalidation_1-error:0.013501\n",
            "[5]\tvalidation_0-error:0.010811\tvalidation_1-error:0.013501\n",
            "[6]\tvalidation_0-error:0.013514\tvalidation_1-error:0.015302\n",
            "[7]\tvalidation_0-error:0.012355\tvalidation_1-error:0.015302\n",
            "[8]\tvalidation_0-error:0.011583\tvalidation_1-error:0.013501\n",
            "[9]\tvalidation_0-error:0.011197\tvalidation_1-error:0.012601\n",
            "[10]\tvalidation_0-error:0.011197\tvalidation_1-error:0.012601\n",
            "[11]\tvalidation_0-error:0.011197\tvalidation_1-error:0.012601\n",
            "[12]\tvalidation_0-error:0.009653\tvalidation_1-error:0.011701\n",
            "[13]\tvalidation_0-error:0.009653\tvalidation_1-error:0.009901\n",
            "[14]\tvalidation_0-error:0.008494\tvalidation_1-error:0.009901\n",
            "[15]\tvalidation_0-error:0.008108\tvalidation_1-error:0.009901\n",
            "[16]\tvalidation_0-error:0.008494\tvalidation_1-error:0.009901\n",
            "[17]\tvalidation_0-error:0.008494\tvalidation_1-error:0.009901\n",
            "[18]\tvalidation_0-error:0.007722\tvalidation_1-error:0.009001\n",
            "[19]\tvalidation_0-error:0.006564\tvalidation_1-error:0.009901\n",
            "[20]\tvalidation_0-error:0.005792\tvalidation_1-error:0.009901\n",
            "[21]\tvalidation_0-error:0.005792\tvalidation_1-error:0.009001\n",
            "[22]\tvalidation_0-error:0.005019\tvalidation_1-error:0.009001\n",
            "[23]\tvalidation_0-error:0.004247\tvalidation_1-error:0.009001\n",
            "[24]\tvalidation_0-error:0.004247\tvalidation_1-error:0.009001\n",
            "[25]\tvalidation_0-error:0.003861\tvalidation_1-error:0.009001\n",
            "[26]\tvalidation_0-error:0.003861\tvalidation_1-error:0.009001\n",
            "[27]\tvalidation_0-error:0.003861\tvalidation_1-error:0.008101\n",
            "[28]\tvalidation_0-error:0.003861\tvalidation_1-error:0.009001\n",
            "[29]\tvalidation_0-error:0.003861\tvalidation_1-error:0.008101\n",
            "[30]\tvalidation_0-error:0.003475\tvalidation_1-error:0.008101\n",
            "[31]\tvalidation_0-error:0.002703\tvalidation_1-error:0.009001\n",
            "[32]\tvalidation_0-error:0.002703\tvalidation_1-error:0.009001\n",
            "[33]\tvalidation_0-error:0.002317\tvalidation_1-error:0.009001\n",
            "[34]\tvalidation_0-error:0.002317\tvalidation_1-error:0.009001\n",
            "[35]\tvalidation_0-error:0.002317\tvalidation_1-error:0.009001\n",
            "[36]\tvalidation_0-error:0.002317\tvalidation_1-error:0.009001\n",
            "[37]\tvalidation_0-error:0.002317\tvalidation_1-error:0.009001\n",
            "[38]\tvalidation_0-error:0.002317\tvalidation_1-error:0.009001\n",
            "[39]\tvalidation_0-error:0.002317\tvalidation_1-error:0.009001\n",
            "[40]\tvalidation_0-error:0.002317\tvalidation_1-error:0.009001\n",
            "[41]\tvalidation_0-error:0.002317\tvalidation_1-error:0.009901\n",
            "[42]\tvalidation_0-error:0.002317\tvalidation_1-error:0.009901\n",
            "[43]\tvalidation_0-error:0.002317\tvalidation_1-error:0.009901\n",
            "[44]\tvalidation_0-error:0.002317\tvalidation_1-error:0.009901\n",
            "[45]\tvalidation_0-error:0.002317\tvalidation_1-error:0.009001\n",
            "[46]\tvalidation_0-error:0.002317\tvalidation_1-error:0.009001\n",
            "[47]\tvalidation_0-error:0.002317\tvalidation_1-error:0.007201\n",
            "[48]\tvalidation_0-error:0.002317\tvalidation_1-error:0.009001\n",
            "[49]\tvalidation_0-error:0.001931\tvalidation_1-error:0.009001\n",
            "[50]\tvalidation_0-error:0.001931\tvalidation_1-error:0.009001\n",
            "[51]\tvalidation_0-error:0.001931\tvalidation_1-error:0.008101\n",
            "[52]\tvalidation_0-error:0.001931\tvalidation_1-error:0.008101\n",
            "[53]\tvalidation_0-error:0.001544\tvalidation_1-error:0.007201\n",
            "[54]\tvalidation_0-error:0.001544\tvalidation_1-error:0.007201\n",
            "[55]\tvalidation_0-error:0.001544\tvalidation_1-error:0.007201\n",
            "[56]\tvalidation_0-error:0.001544\tvalidation_1-error:0.007201\n",
            "[57]\tvalidation_0-error:0.001544\tvalidation_1-error:0.007201\n",
            "[58]\tvalidation_0-error:0.001544\tvalidation_1-error:0.007201\n",
            "[59]\tvalidation_0-error:0.001544\tvalidation_1-error:0.007201\n",
            "[60]\tvalidation_0-error:0.001544\tvalidation_1-error:0.007201\n",
            "[61]\tvalidation_0-error:0.001158\tvalidation_1-error:0.007201\n",
            "[62]\tvalidation_0-error:0.000772\tvalidation_1-error:0.007201\n",
            "[63]\tvalidation_0-error:0.000772\tvalidation_1-error:0.007201\n",
            "[64]\tvalidation_0-error:0.000772\tvalidation_1-error:0.007201\n",
            "[65]\tvalidation_0-error:0.000772\tvalidation_1-error:0.007201\n",
            "[66]\tvalidation_0-error:0.000772\tvalidation_1-error:0.007201\n",
            "[67]\tvalidation_0-error:0.000772\tvalidation_1-error:0.007201\n",
            "[68]\tvalidation_0-error:0.000772\tvalidation_1-error:0.007201\n",
            "[69]\tvalidation_0-error:0.000772\tvalidation_1-error:0.007201\n",
            "[70]\tvalidation_0-error:0.000772\tvalidation_1-error:0.007201\n",
            "[71]\tvalidation_0-error:0.000772\tvalidation_1-error:0.007201\n",
            "[72]\tvalidation_0-error:0.000772\tvalidation_1-error:0.007201\n",
            "[73]\tvalidation_0-error:0.000386\tvalidation_1-error:0.007201\n",
            "[74]\tvalidation_0-error:0.000386\tvalidation_1-error:0.007201\n",
            "[75]\tvalidation_0-error:0.000386\tvalidation_1-error:0.007201\n",
            "[76]\tvalidation_0-error:0.000386\tvalidation_1-error:0.007201\n",
            "[77]\tvalidation_0-error:0.000386\tvalidation_1-error:0.007201\n",
            "[78]\tvalidation_0-error:0.000386\tvalidation_1-error:0.007201\n",
            "[79]\tvalidation_0-error:0.000386\tvalidation_1-error:0.007201\n",
            "[80]\tvalidation_0-error:0.000386\tvalidation_1-error:0.007201\n",
            "[81]\tvalidation_0-error:0.000386\tvalidation_1-error:0.007201\n",
            "[82]\tvalidation_0-error:0.000386\tvalidation_1-error:0.007201\n",
            "[83]\tvalidation_0-error:0.000386\tvalidation_1-error:0.007201\n",
            "[84]\tvalidation_0-error:0.000386\tvalidation_1-error:0.007201\n",
            "[85]\tvalidation_0-error:0.000386\tvalidation_1-error:0.007201\n",
            "[86]\tvalidation_0-error:0.000386\tvalidation_1-error:0.007201\n",
            "[87]\tvalidation_0-error:0.000386\tvalidation_1-error:0.007201\n",
            "[88]\tvalidation_0-error:0.000386\tvalidation_1-error:0.007201\n",
            "[89]\tvalidation_0-error:0.000386\tvalidation_1-error:0.007201\n",
            "[90]\tvalidation_0-error:0.000386\tvalidation_1-error:0.007201\n",
            "[91]\tvalidation_0-error:0.000386\tvalidation_1-error:0.007201\n",
            "[92]\tvalidation_0-error:0.000386\tvalidation_1-error:0.007201\n",
            "[93]\tvalidation_0-error:0.000386\tvalidation_1-error:0.007201\n",
            "[94]\tvalidation_0-error:0.000386\tvalidation_1-error:0.006301\n",
            "[95]\tvalidation_0-error:0.000386\tvalidation_1-error:0.007201\n",
            "[96]\tvalidation_0-error:0.000386\tvalidation_1-error:0.006301\n",
            "[97]\tvalidation_0-error:0.000386\tvalidation_1-error:0.006301\n",
            "[98]\tvalidation_0-error:0.000386\tvalidation_1-error:0.006301\n",
            "[99]\tvalidation_0-error:0.000386\tvalidation_1-error:0.006301\n",
            "[100]\tvalidation_0-error:0.000386\tvalidation_1-error:0.006301\n",
            "[101]\tvalidation_0-error:0.000386\tvalidation_1-error:0.006301\n",
            "[102]\tvalidation_0-error:0.000386\tvalidation_1-error:0.006301\n",
            "[103]\tvalidation_0-error:0.000386\tvalidation_1-error:0.005401\n",
            "[104]\tvalidation_0-error:0.000386\tvalidation_1-error:0.005401\n",
            "[105]\tvalidation_0-error:0.000386\tvalidation_1-error:0.005401\n",
            "[106]\tvalidation_0-error:0.000386\tvalidation_1-error:0.005401\n",
            "[107]\tvalidation_0-error:0.000386\tvalidation_1-error:0.005401\n",
            "[108]\tvalidation_0-error:0.000386\tvalidation_1-error:0.005401\n",
            "[109]\tvalidation_0-error:0.000386\tvalidation_1-error:0.006301\n",
            "[110]\tvalidation_0-error:0.000386\tvalidation_1-error:0.005401\n",
            "[111]\tvalidation_0-error:0.000386\tvalidation_1-error:0.005401\n",
            "[112]\tvalidation_0-error:0.000386\tvalidation_1-error:0.005401\n",
            "[113]\tvalidation_0-error:0.000386\tvalidation_1-error:0.005401\n",
            "[114]\tvalidation_0-error:0.000386\tvalidation_1-error:0.005401\n",
            "[115]\tvalidation_0-error:0.000386\tvalidation_1-error:0.005401\n",
            "[116]\tvalidation_0-error:0.000386\tvalidation_1-error:0.005401\n",
            "[117]\tvalidation_0-error:0.000386\tvalidation_1-error:0.005401\n",
            "[118]\tvalidation_0-error:0.000386\tvalidation_1-error:0.005401\n",
            "[119]\tvalidation_0-error:0.000386\tvalidation_1-error:0.005401\n",
            "Train/Test split results:\n",
            "XGBClassifier accuracy is 0.995\n",
            "XGBClassifier auc is 0.999\n",
            "XGBClassifier Sensitivity is 0.985\n",
            "XGBClassifier Specificity is 0.997\n",
            "XGBClassifier F1 is 0.985\n"
          ]
        }
      ]
    },
    {
      "cell_type": "code",
      "source": [
        "conf_mtrx = confusion_matrix(y_test, y_pred)\n",
        "tn, fp, fn, tp = conf_mtrx.ravel() \n",
        "\n",
        "sns.heatmap(conf_mtrx, annot = True)"
      ],
      "metadata": {
        "colab": {
          "base_uri": "https://localhost:8080/",
          "height": 283
        },
        "outputId": "bc3e768b-5313-4056-db43-f26f3dae1ce2",
        "id": "r5EkvAKDUkH9"
      },
      "execution_count": null,
      "outputs": [
        {
          "output_type": "execute_result",
          "data": {
            "text/plain": [
              "<matplotlib.axes._subplots.AxesSubplot at 0x7fe7e037ae90>"
            ]
          },
          "metadata": {},
          "execution_count": 43
        },
        {
          "output_type": "display_data",
          "data": {
            "text/plain": [
              "<Figure size 432x288 with 2 Axes>"
            ],
            "image/png": "[encoded data removed]"
          },
          "metadata": {
            "needs_background": "light"
          }
        }
      ]
    },
    {
      "cell_type": "markdown",
      "source": [
        "- **Comprobamos que devuelve valores muy razonables de sensitividad, especificitividad y f1. Queda pantente el alto rendimiento y versatilidad de este modelo.**\n",
        "\n",
        "- **La matriz de confusión muestra valores de FP y FN muy favorables para nuestro caso de uso. Con un índice de acierto elevado.**\n",
        "\n",
        "- **A continuación vamos a visualizar la evolución de Train y Test en base a este modelo:**"
      ],
      "metadata": {
        "id": "HMle0N4fRNH0"
      }
    },
    {
      "cell_type": "code",
      "source": [
        "results = model_7.evals_result()\n",
        "epochs = len(results['validation_0']['error'])\n",
        "\n",
        "x_axis = range(0,epochs)\n",
        "fig, ax = plt.subplots()\n",
        "ax.plot(x_axis, results['validation_0']['error'], label = 'Train')\n",
        "ax.plot(x_axis, results['validation_1']['error'], label = 'Test')\n",
        "plt.legend()"
      ],
      "metadata": {
        "id": "QOCBnvueUCht",
        "colab": {
          "base_uri": "https://localhost:8080/",
          "height": 283
        },
        "outputId": "954e0db3-5528-43fa-b824-67a55e681e57"
      },
      "execution_count": null,
      "outputs": [
        {
          "output_type": "execute_result",
          "data": {
            "text/plain": [
              "<matplotlib.legend.Legend at 0x7fe7dd527750>"
            ]
          },
          "metadata": {},
          "execution_count": 44
        },
        {
          "output_type": "display_data",
          "data": {
            "text/plain": [
              "<Figure size 432x288 with 1 Axes>"
            ],
            "image/png": "[encoded data removed]"
          },
          "metadata": {
            "needs_background": "light"
          }
        }
      ]
    },
    {
      "cell_type": "markdown",
      "source": [
        "- **Podemos verificar que el número de estimadores se ajusta correctamente al momento en el que test es constante. Por lo que no es necesario ajustar dicho parámetro.**\n",
        "\n",
        "- **Valoramos positivamente que Test siempre se mantenga por encima de Train, sin ningún cruce prolongado de tendencia entre ellos. Aunque lo ideal sería que las dinamicas de Train y Test estuvieran más juntas.**\n",
        "\n",
        "Pasamos a visualizar la curva ROC, para comprobar la capacidad de diferenciar clases:"
      ],
      "metadata": {
        "id": "8I08DUbKSp7-"
      }
    },
    {
      "cell_type": "code",
      "source": [
        "#define metrics\n",
        "y_pred_proba = model_7.predict_proba(X_test)[::,1]\n",
        "fpr, tpr, _ = metrics.roc_curve(y_test, y_pred_proba)\n",
        "\n",
        "#create ROC curve\n",
        "plt.plot(fpr, tpr)\n",
        "plt.ylabel('True Positive Rate')\n",
        "plt.xlabel('False Positive Rate')\n",
        "plt.show()"
      ],
      "metadata": {
        "colab": {
          "base_uri": "https://localhost:8080/",
          "height": 279
        },
        "id": "Cs7FsE4zSe61",
        "outputId": "ba199208-dcd3-4390-c877-fc25c4f0411e"
      },
      "execution_count": null,
      "outputs": [
        {
          "output_type": "display_data",
          "data": {
            "text/plain": [
              "<Figure size 432x288 with 1 Axes>"
            ],
            "image/png": "[encoded data removed]"
          },
          "metadata": {
            "needs_background": "light"
          }
        }
      ]
    },
    {
      "cell_type": "markdown",
      "source": [
        "- **El umbral de los positivos verdaderos sobre los falsos positivos es muy pronunciado. Señal de que estamos ante un modelo muy equilibrado.**\n",
        "\n",
        "- A continuación vamos a implementar el método de validación cruzada. Que divide el conjunto de entrenamiento en subconjuntos (cv = número de subconjuntos) llamados iteraciones. A continuación entrena y evalua el modelo del árbol de decisiones tantas veces como el número de subconjuntos. Eligiendo una iteración diferente cada vez para la envaluación y entrenando en las otras \"cv-1\" iteraciones. El resultado es una matriz que contiene tantas puntuaciones como número de subconjuntos (cv):"
      ],
      "metadata": {
        "id": "vqry6uXnUVxn"
      }
    },
    {
      "cell_type": "code",
      "source": [
        "from sklearn.metrics import accuracy_score\n",
        "from sklearn.model_selection import cross_val_score\n",
        "from sklearn.utils import class_weight\n",
        "from xgboost.compat import KFold\n",
        "\n",
        "cv = KFold(n_splits = 5)\n",
        "\n",
        "model_8 = XGBClassifier(#random_state = 1234,\n",
        "                        n_estimators = 120,\n",
        "                        class_weight = 'balanced',\n",
        "                        booster = 'gbtree',\n",
        "                        max_depth = 3,\n",
        "                        scale_pos_weight = 1,\n",
        "                        reg_lambda = 1\n",
        "                        )\n",
        "# Train model\n",
        "model_8.fit(X_train, y_train, eval_set = [(X_train, y_train),(X_test, y_test)])\n",
        "\n",
        "# Predict \n",
        "y_pred = model_8.predict(X_test)\n",
        "\n",
        "score = model_8.score(X_train, y_train)\n",
        "print(\"score:\", score)\n",
        "\n",
        "scores = cross_val_score(model_8, X_train, y_train, cv = cv, scoring = 'f1')\n",
        "print(\"Resultado validación cruzada:\", scores)\n",
        "print(\"Media de los resultados de validación cruzada:\", scores.mean())\n",
        "\n",
        "preds = model_8.predict(X_test)\n",
        "score_pred = metrics.accuracy_score(y_test, preds)\n",
        "\n",
        "print('Resultado del test:', score_pred)\n",
        "\n",
        "# Eval model\n",
        "compute_metrics(model_8, X_test, y_test, y_pred)"
      ],
      "metadata": {
        "colab": {
          "base_uri": "https://localhost:8080/"
        },
        "id": "rN2A4IsYP4aN",
        "outputId": "2998324c-9d32-4520-efb3-8268a46e4f62"
      },
      "execution_count": null,
      "outputs": [
        {
          "output_type": "stream",
          "name": "stdout",
          "text": [
            "[0]\tvalidation_0-error:0.015058\tvalidation_1-error:0.018902\n",
            "[1]\tvalidation_0-error:0.015058\tvalidation_1-error:0.018902\n",
            "[2]\tvalidation_0-error:0.015058\tvalidation_1-error:0.018902\n",
            "[3]\tvalidation_0-error:0.014286\tvalidation_1-error:0.016202\n",
            "[4]\tvalidation_0-error:0.012741\tvalidation_1-error:0.013501\n",
            "[5]\tvalidation_0-error:0.010811\tvalidation_1-error:0.013501\n",
            "[6]\tvalidation_0-error:0.013514\tvalidation_1-error:0.015302\n",
            "[7]\tvalidation_0-error:0.012355\tvalidation_1-error:0.015302\n",
            "[8]\tvalidation_0-error:0.011583\tvalidation_1-error:0.013501\n",
            "[9]\tvalidation_0-error:0.011197\tvalidation_1-error:0.012601\n",
            "[10]\tvalidation_0-error:0.011197\tvalidation_1-error:0.012601\n",
            "[11]\tvalidation_0-error:0.011197\tvalidation_1-error:0.012601\n",
            "[12]\tvalidation_0-error:0.009653\tvalidation_1-error:0.011701\n",
            "[13]\tvalidation_0-error:0.009653\tvalidation_1-error:0.009901\n",
            "[14]\tvalidation_0-error:0.008494\tvalidation_1-error:0.009901\n",
            "[15]\tvalidation_0-error:0.008108\tvalidation_1-error:0.009901\n",
            "[16]\tvalidation_0-error:0.008494\tvalidation_1-error:0.009901\n",
            "[17]\tvalidation_0-error:0.008494\tvalidation_1-error:0.009901\n",
            "[18]\tvalidation_0-error:0.007722\tvalidation_1-error:0.009001\n",
            "[19]\tvalidation_0-error:0.006564\tvalidation_1-error:0.009901\n",
            "[20]\tvalidation_0-error:0.005792\tvalidation_1-error:0.009901\n",
            "[21]\tvalidation_0-error:0.005792\tvalidation_1-error:0.009001\n",
            "[22]\tvalidation_0-error:0.005019\tvalidation_1-error:0.009001\n",
            "[23]\tvalidation_0-error:0.004247\tvalidation_1-error:0.009001\n",
            "[24]\tvalidation_0-error:0.004247\tvalidation_1-error:0.009001\n",
            "[25]\tvalidation_0-error:0.003861\tvalidation_1-error:0.009001\n",
            "[26]\tvalidation_0-error:0.003861\tvalidation_1-error:0.009001\n",
            "[27]\tvalidation_0-error:0.003861\tvalidation_1-error:0.008101\n",
            "[28]\tvalidation_0-error:0.003861\tvalidation_1-error:0.009001\n",
            "[29]\tvalidation_0-error:0.003861\tvalidation_1-error:0.008101\n",
            "[30]\tvalidation_0-error:0.003475\tvalidation_1-error:0.008101\n",
            "[31]\tvalidation_0-error:0.002703\tvalidation_1-error:0.009001\n",
            "[32]\tvalidation_0-error:0.002703\tvalidation_1-error:0.009001\n",
            "[33]\tvalidation_0-error:0.002317\tvalidation_1-error:0.009001\n",
            "[34]\tvalidation_0-error:0.002317\tvalidation_1-error:0.009001\n",
            "[35]\tvalidation_0-error:0.002317\tvalidation_1-error:0.009001\n",
            "[36]\tvalidation_0-error:0.002317\tvalidation_1-error:0.009001\n",
            "[37]\tvalidation_0-error:0.002317\tvalidation_1-error:0.009001\n",
            "[38]\tvalidation_0-error:0.002317\tvalidation_1-error:0.009001\n",
            "[39]\tvalidation_0-error:0.002317\tvalidation_1-error:0.009001\n",
            "[40]\tvalidation_0-error:0.002317\tvalidation_1-error:0.009001\n",
            "[41]\tvalidation_0-error:0.002317\tvalidation_1-error:0.009901\n",
            "[42]\tvalidation_0-error:0.002317\tvalidation_1-error:0.009901\n",
            "[43]\tvalidation_0-error:0.002317\tvalidation_1-error:0.009901\n",
            "[44]\tvalidation_0-error:0.002317\tvalidation_1-error:0.009901\n",
            "[45]\tvalidation_0-error:0.002317\tvalidation_1-error:0.009001\n",
            "[46]\tvalidation_0-error:0.002317\tvalidation_1-error:0.009001\n",
            "[47]\tvalidation_0-error:0.002317\tvalidation_1-error:0.007201\n",
            "[48]\tvalidation_0-error:0.002317\tvalidation_1-error:0.009001\n",
            "[49]\tvalidation_0-error:0.001931\tvalidation_1-error:0.009001\n",
            "[50]\tvalidation_0-error:0.001931\tvalidation_1-error:0.009001\n",
            "[51]\tvalidation_0-error:0.001931\tvalidation_1-error:0.008101\n",
            "[52]\tvalidation_0-error:0.001931\tvalidation_1-error:0.008101\n",
            "[53]\tvalidation_0-error:0.001544\tvalidation_1-error:0.007201\n",
            "[54]\tvalidation_0-error:0.001544\tvalidation_1-error:0.007201\n",
            "[55]\tvalidation_0-error:0.001544\tvalidation_1-error:0.007201\n",
            "[56]\tvalidation_0-error:0.001544\tvalidation_1-error:0.007201\n",
            "[57]\tvalidation_0-error:0.001544\tvalidation_1-error:0.007201\n",
            "[58]\tvalidation_0-error:0.001544\tvalidation_1-error:0.007201\n",
            "[59]\tvalidation_0-error:0.001544\tvalidation_1-error:0.007201\n",
            "[60]\tvalidation_0-error:0.001544\tvalidation_1-error:0.007201\n",
            "[61]\tvalidation_0-error:0.001158\tvalidation_1-error:0.007201\n",
            "[62]\tvalidation_0-error:0.000772\tvalidation_1-error:0.007201\n",
            "[63]\tvalidation_0-error:0.000772\tvalidation_1-error:0.007201\n",
            "[64]\tvalidation_0-error:0.000772\tvalidation_1-error:0.007201\n",
            "[65]\tvalidation_0-error:0.000772\tvalidation_1-error:0.007201\n",
            "[66]\tvalidation_0-error:0.000772\tvalidation_1-error:0.007201\n",
            "[67]\tvalidation_0-error:0.000772\tvalidation_1-error:0.007201\n",
            "[68]\tvalidation_0-error:0.000772\tvalidation_1-error:0.007201\n",
            "[69]\tvalidation_0-error:0.000772\tvalidation_1-error:0.007201\n",
            "[70]\tvalidation_0-error:0.000772\tvalidation_1-error:0.007201\n",
            "[71]\tvalidation_0-error:0.000772\tvalidation_1-error:0.007201\n",
            "[72]\tvalidation_0-error:0.000772\tvalidation_1-error:0.007201\n",
            "[73]\tvalidation_0-error:0.000386\tvalidation_1-error:0.007201\n",
            "[74]\tvalidation_0-error:0.000386\tvalidation_1-error:0.007201\n",
            "[75]\tvalidation_0-error:0.000386\tvalidation_1-error:0.007201\n",
            "[76]\tvalidation_0-error:0.000386\tvalidation_1-error:0.007201\n",
            "[77]\tvalidation_0-error:0.000386\tvalidation_1-error:0.007201\n",
            "[78]\tvalidation_0-error:0.000386\tvalidation_1-error:0.007201\n",
            "[79]\tvalidation_0-error:0.000386\tvalidation_1-error:0.007201\n",
            "[80]\tvalidation_0-error:0.000386\tvalidation_1-error:0.007201\n",
            "[81]\tvalidation_0-error:0.000386\tvalidation_1-error:0.007201\n",
            "[82]\tvalidation_0-error:0.000386\tvalidation_1-error:0.007201\n",
            "[83]\tvalidation_0-error:0.000386\tvalidation_1-error:0.007201\n",
            "[84]\tvalidation_0-error:0.000386\tvalidation_1-error:0.007201\n",
            "[85]\tvalidation_0-error:0.000386\tvalidation_1-error:0.007201\n",
            "[86]\tvalidation_0-error:0.000386\tvalidation_1-error:0.007201\n",
            "[87]\tvalidation_0-error:0.000386\tvalidation_1-error:0.007201\n",
            "[88]\tvalidation_0-error:0.000386\tvalidation_1-error:0.007201\n",
            "[89]\tvalidation_0-error:0.000386\tvalidation_1-error:0.007201\n",
            "[90]\tvalidation_0-error:0.000386\tvalidation_1-error:0.007201\n",
            "[91]\tvalidation_0-error:0.000386\tvalidation_1-error:0.007201\n",
            "[92]\tvalidation_0-error:0.000386\tvalidation_1-error:0.007201\n",
            "[93]\tvalidation_0-error:0.000386\tvalidation_1-error:0.007201\n",
            "[94]\tvalidation_0-error:0.000386\tvalidation_1-error:0.006301\n",
            "[95]\tvalidation_0-error:0.000386\tvalidation_1-error:0.007201\n",
            "[96]\tvalidation_0-error:0.000386\tvalidation_1-error:0.006301\n",
            "[97]\tvalidation_0-error:0.000386\tvalidation_1-error:0.006301\n",
            "[98]\tvalidation_0-error:0.000386\tvalidation_1-error:0.006301\n",
            "[99]\tvalidation_0-error:0.000386\tvalidation_1-error:0.006301\n",
            "[100]\tvalidation_0-error:0.000386\tvalidation_1-error:0.006301\n",
            "[101]\tvalidation_0-error:0.000386\tvalidation_1-error:0.006301\n",
            "[102]\tvalidation_0-error:0.000386\tvalidation_1-error:0.006301\n",
            "[103]\tvalidation_0-error:0.000386\tvalidation_1-error:0.005401\n",
            "[104]\tvalidation_0-error:0.000386\tvalidation_1-error:0.005401\n",
            "[105]\tvalidation_0-error:0.000386\tvalidation_1-error:0.005401\n",
            "[106]\tvalidation_0-error:0.000386\tvalidation_1-error:0.005401\n",
            "[107]\tvalidation_0-error:0.000386\tvalidation_1-error:0.005401\n",
            "[108]\tvalidation_0-error:0.000386\tvalidation_1-error:0.005401\n",
            "[109]\tvalidation_0-error:0.000386\tvalidation_1-error:0.006301\n",
            "[110]\tvalidation_0-error:0.000386\tvalidation_1-error:0.005401\n",
            "[111]\tvalidation_0-error:0.000386\tvalidation_1-error:0.005401\n",
            "[112]\tvalidation_0-error:0.000386\tvalidation_1-error:0.005401\n",
            "[113]\tvalidation_0-error:0.000386\tvalidation_1-error:0.005401\n",
            "[114]\tvalidation_0-error:0.000386\tvalidation_1-error:0.005401\n",
            "[115]\tvalidation_0-error:0.000386\tvalidation_1-error:0.005401\n",
            "[116]\tvalidation_0-error:0.000386\tvalidation_1-error:0.005401\n",
            "[117]\tvalidation_0-error:0.000386\tvalidation_1-error:0.005401\n",
            "[118]\tvalidation_0-error:0.000386\tvalidation_1-error:0.005401\n",
            "[119]\tvalidation_0-error:0.000386\tvalidation_1-error:0.005401\n",
            "score: 0.9996138996138996\n",
            "Resultado validación cruzada: [0.97674419 0.97674419 0.96078431 0.97409326 0.98      ]\n",
            "Media de los resultados de validación cruzada: 0.9736731900134437\n",
            "Resultado del test: 0.9945994599459946\n",
            "Train/Test split results:\n",
            "XGBClassifier accuracy is 0.995\n",
            "XGBClassifier auc is 0.999\n",
            "XGBClassifier Sensitivity is 0.985\n",
            "XGBClassifier Specificity is 0.997\n",
            "XGBClassifier F1 is 0.985\n"
          ]
        }
      ]
    },
    {
      "cell_type": "code",
      "source": [
        "conf_mtrx = confusion_matrix(y_test, y_pred)\n",
        "tn, fp, fn, tp = conf_mtrx.ravel() \n",
        "\n",
        "sns.heatmap(conf_mtrx, annot = True)"
      ],
      "metadata": {
        "colab": {
          "base_uri": "https://localhost:8080/",
          "height": 283
        },
        "outputId": "b59404f0-0c18-4479-c014-57755a3d22ac",
        "id": "gLN-my8aa5IZ"
      },
      "execution_count": null,
      "outputs": [
        {
          "output_type": "execute_result",
          "data": {
            "text/plain": [
              "<matplotlib.axes._subplots.AxesSubplot at 0x7fe7dd5f8490>"
            ]
          },
          "metadata": {},
          "execution_count": 47
        },
        {
          "output_type": "display_data",
          "data": {
            "text/plain": [
              "<Figure size 432x288 with 2 Axes>"
            ],
            "image/png": "[encoded data removed]"
          },
          "metadata": {
            "needs_background": "light"
          }
        }
      ]
    },
    {
      "cell_type": "markdown",
      "source": [
        "- **Vemos que devuelve los mismos valores mde sensitividad, especificitividad, F1, FP y FN que el modelo sin validación cruzada. Cabe realizar más pruebas, ajustando los hiperparámetros, para optimizar la validación cruzada.**"
      ],
      "metadata": {
        "id": "TXr97SRYbs8S"
      }
    },
    {
      "cell_type": "code",
      "source": [
        "def plot_errors(final_model):\n",
        "  import matplotlib.pyplot as plt \n",
        "\n",
        "  results = final_model.evals_result()\n",
        "  epochs = len(results['validation_0']['error'])\n",
        "\n",
        "  x_axis = range(0,epochs)  \n",
        "  fig, ax = plt.subplots()\n",
        "  ax.plot(x_axis, results['validation_0']['error'], label = 'Train')\n",
        "  ax.plot(x_axis, results['validation_1']['error'], label = 'Test')\n",
        "  plt.legend()\n",
        "\n",
        "plot_errors(model_8)"
      ],
      "metadata": {
        "colab": {
          "base_uri": "https://localhost:8080/",
          "height": 265
        },
        "id": "OtkeMEimP4e_",
        "outputId": "9f6b713e-2336-4c07-ce8d-6097f618ed22"
      },
      "execution_count": null,
      "outputs": [
        {
          "output_type": "display_data",
          "data": {
            "text/plain": [
              "<Figure size 432x288 with 1 Axes>"
            ],
            "image/png": "[encoded data removed]"
          },
          "metadata": {
            "needs_background": "light"
          }
        }
      ]
    },
    {
      "cell_type": "code",
      "source": [
        "#define metrics\n",
        "y_pred_proba = model_8.predict_proba(X_test)[::,1]\n",
        "fpr, tpr, _ = metrics.roc_curve(y_test, y_pred_proba)\n",
        "\n",
        "#create ROC curve\n",
        "plt.plot(fpr, tpr)\n",
        "plt.ylabel('True Positive Rate')\n",
        "plt.xlabel('False Positive Rate')\n",
        "plt.show()"
      ],
      "metadata": {
        "colab": {
          "base_uri": "https://localhost:8080/",
          "height": 279
        },
        "outputId": "38673c81-c208-41d6-d865-63255d2752cb",
        "id": "w5trn7GSVKHC"
      },
      "execution_count": null,
      "outputs": [
        {
          "output_type": "display_data",
          "data": {
            "text/plain": [
              "<Figure size 432x288 with 1 Axes>"
            ],
            "image/png": "[encoded data removed]"
          },
          "metadata": {
            "needs_background": "light"
          }
        }
      ]
    },
    {
      "cell_type": "markdown",
      "source": [
        "- **De igual manera obtenemos la mismas visualizaciones de Train, Test y curva ROC que el modelo sin validación cruzada. Efectivamente necesitamos cambiar los hiperparámetros de partida para obtener un mejor resultado con validación cruzada.**"
      ],
      "metadata": {
        "id": "k35byXicahKv"
      }
    },
    {
      "cell_type": "markdown",
      "source": [
        "##4.- Conclusiones\n",
        "\n",
        "- **Regresión estadística nos ha dado un F1 score de (0.975). Algo por debajo de las calificaciones de los modelos KNN (0.978), Random Forest (0.985), Adaboost (0.98) y XGBoost (0.985). Los modelos más potentes y compactos, son capaces de obtener relaciones complejas. Contamos con valores aceptables en la matriz de confusión.**\n",
        "\n",
        "- **Naive Bayes, a través de una aproximación Gaussiana, entregó un peor valor de F1 (0.917) que el del resto de modelos. Al tratarse de un caso real, la asunción de predictores independientes es casi imposible. La matriz de confusión arroja unos errores de predicción (FP y FN) demasiado abultados. El modelo de Naive Bayes a través del método categórico no devolvió resultados. Haciendo imposible la predicción y su calificación.**\n",
        "\n",
        "- **KNN muestra un F1 (0.978) menor que el de modelos más potentes y rápidos. Es sensible a los outliers demasiado alejados, ruido y distancia de los puntos. La aplicación del método GridSearch no consiguió mejorar el rendimiento de nuestro modelo original. Seguramente es necesario probar con una mayor diversidad de parámetros.**\n",
        "\n",
        "- **Decission Tree (F1 - 0.961) es menos eficaz que los modelos más potentes, quedando únicamente por delante Naive Bayes Gaussian(). Refleja alguna dificultad ante datos complejos, a pesar de su robustez al ruido y valores atípicos. GridSearch empeoró respecto al resultado del árbol de decisión inicial.**\n",
        "\n",
        "- **Random Forest obtuvo el mejor F1 (0.985 empatado con XGBOOST). Clara señal de una buena corrección del overfitting. De igual manera se muestra estable con nuevas muestras, puesto que al utilizar multitud de árboles sigue prevaleciendo el promedio de sus votaciones. Obtuvo la matriz de confusión con mejores resultados e igualmente no reflejó ninguna mejora tras aplicar GridSearch.**\n",
        "\n",
        "- **Adaboost con un F1 de 0.98 muestra un buen rendimiento, simplicidad de parámetros y una ajustada tasa de errores. Aunque quizas se resienta por la aparición de outliers (o datos desequilibrados) que desemboca en una disminución en la precisión de la clasificación con un entrenamiento algo sesgado. GridSearch tampoco recomienda unos parámetros que mejoren el F1 original.**\n",
        "\n",
        "- **XGBOOST iguala el mejor resultado de F1 (0.985) alcanzado por el Random Forest. Su gran versatilidad y potencia se reflejan en los notables valores de la matriz de confusión y en las visualizaciones de los errores y curva ROC. A falta de profundizar en su parametrización, podríamos vislumbrar que es el modelo más eficaz de todos cuantos hemos aplicado en este estudio. La aplicación de la validación cruzada tampoco mejoró los resultados obtenidos anteriormente.**"
      ],
      "metadata": {
        "id": "q2hl4os7c5wI"
      }
    },
    {
      "cell_type": "markdown",
      "source": [
        "##5.- Kaggle submission \n",
        "https://www.kaggle.com/t/c7f9b11ea913482eb868aa2364a81cef"
      ],
      "metadata": {
        "id": "kgt7ydrcI5j9"
      }
    },
    {
      "cell_type": "code",
      "source": [
        "#------------------------------------------------\n",
        "# Cargar datos de validación\n",
        "\n",
        "# https://drive.google.com/file/d/15lPur5igWKQeddJQENnQFt4tmBqrd0ol/view?usp=sharing\n",
        "!gdown https://drive.google.com/uc?id=15lPur5igWKQeddJQENnQFt4tmBqrd0ol\n",
        "\n",
        "\n",
        "data_valid = pd.read_csv('heart_valid.csv')\n",
        "dt_valid = data_valid.drop(['Id'], axis=1)\n",
        "\n",
        "\n",
        "#---------------------------------------------------\n",
        "# Aplicar las trasnformaciones necesarias (las mismas del train)\n",
        "\n",
        "# apply normalization techniques\n",
        "\n",
        "for column in data_min_max.columns:\n",
        "    dt_valid[column] = (dt_valid[column] - dt_valid[column].min()) / (dt_valid[column].max() - dt_valid[column].min())       \n",
        "  \n",
        "# view normalized data\n",
        "dt_valid.head()\n",
        "\n",
        "#dt_valid = data_valid.drop(['Id'], axis=1)"
      ],
      "metadata": {
        "id": "Tf2TE1RsI5j9",
        "colab": {
          "base_uri": "https://localhost:8080/",
          "height": 308
        },
        "outputId": "f3ec5914-11f3-4657-9b00-95acfe29a2ba"
      },
      "execution_count": null,
      "outputs": [
        {
          "output_type": "stream",
          "name": "stdout",
          "text": [
            "Downloading...\n",
            "From: https://drive.google.com/uc?id=15lPur5igWKQeddJQENnQFt4tmBqrd0ol\n",
            "To: /content/heart_valid.csv\n",
            "\r  0% 0.00/200k [00:00<?, ?B/s]\r100% 200k/200k [00:00<00:00, 67.1MB/s]\n"
          ]
        },
        {
          "output_type": "execute_result",
          "data": {
            "text/plain": [
              "        TCI      TCSC       exp    expmod        cm     cvbin    frqbin  \\\n",
              "0  0.291744  0.586083  0.307692  0.260870  0.187500  0.629954  0.205882   \n",
              "1  0.212494  0.618322  0.230769  0.260870  0.250001  0.654887  0.205882   \n",
              "2  0.156606  0.569124  0.230769  0.391304  0.250001  0.662172  0.205882   \n",
              "3  0.163885  0.532648  0.076923  0.304348  0.281264  0.654887  0.205882   \n",
              "4  0.247842  0.617470  0.000000  0.217391  0.250001  0.652415  0.235294   \n",
              "\n",
              "       abin      kurt    vfleak  ...        x5        x1        x2       bCP  \\\n",
              "0  0.605870  0.051817  0.623793  ...  0.098591  0.173735  0.010115  0.244395   \n",
              "1  0.584906  0.047879  0.609567  ...  0.112672  0.294707  0.008104  0.190583   \n",
              "2  0.578616  0.053049  0.510884  ...  0.239436  0.571006  0.006999  0.217489   \n",
              "3  0.584906  0.059346  0.577607  ...  0.239436  0.525143  0.008036  0.206278   \n",
              "4  0.587002  0.049054  0.583903  ...  0.098591  0.183617  0.008969  0.201794   \n",
              "\n",
              "        bWT        bW        Li    count1    count2    count3  \n",
              "0  0.514450  0.169597  0.131778  0.256881  0.468439  0.163820  \n",
              "1  0.625305  0.140354  0.116855  0.348624  0.631229  0.280832  \n",
              "2  0.403251  0.169597  0.200694  0.371560  0.617940  0.293626  \n",
              "3  0.455521  0.163743  0.226079  0.169725  0.551495  0.155790  \n",
              "4  0.562374  0.105267  0.182200  0.316514  0.521595  0.213729  \n",
              "\n",
              "[5 rows x 30 columns]"
            ],
            "text/html": [
              "\n",
              "  <div id=\"df-d43d4f50-fe51-4363-a21d-5729e352a19e\">\n",
              "    <div class=\"colab-df-container\">\n",
              "      <div>\n",
              "<style scoped>\n",
              "    .dataframe tbody tr th:only-of-type {\n",
              "        vertical-align: middle;\n",
              "    }\n",
              "\n",
              "    .dataframe tbody tr th {\n",
              "        vertical-align: top;\n",
              "    }\n",
              "\n",
              "    .dataframe thead th {\n",
              "        text-align: right;\n",
              "    }\n",
              "</style>\n",
              "<table border=\"1\" class=\"dataframe\">\n",
              "  <thead>\n",
              "    <tr style=\"text-align: right;\">\n",
              "      <th></th>\n",
              "      <th>TCI</th>\n",
              "      <th>TCSC</th>\n",
              "      <th>exp</th>\n",
              "      <th>expmod</th>\n",
              "      <th>cm</th>\n",
              "      <th>cvbin</th>\n",
              "      <th>frqbin</th>\n",
              "      <th>abin</th>\n",
              "      <th>kurt</th>\n",
              "      <th>vfleak</th>\n",
              "      <th>...</th>\n",
              "      <th>x5</th>\n",
              "      <th>x1</th>\n",
              "      <th>x2</th>\n",
              "      <th>bCP</th>\n",
              "      <th>bWT</th>\n",
              "      <th>bW</th>\n",
              "      <th>Li</th>\n",
              "      <th>count1</th>\n",
              "      <th>count2</th>\n",
              "      <th>count3</th>\n",
              "    </tr>\n",
              "  </thead>\n",
              "  <tbody>\n",
              "    <tr>\n",
              "      <th>0</th>\n",
              "      <td>0.291744</td>\n",
              "      <td>0.586083</td>\n",
              "      <td>0.307692</td>\n",
              "      <td>0.260870</td>\n",
              "      <td>0.187500</td>\n",
              "      <td>0.629954</td>\n",
              "      <td>0.205882</td>\n",
              "      <td>0.605870</td>\n",
              "      <td>0.051817</td>\n",
              "      <td>0.623793</td>\n",
              "      <td>...</td>\n",
              "      <td>0.098591</td>\n",
              "      <td>0.173735</td>\n",
              "      <td>0.010115</td>\n",
              "      <td>0.244395</td>\n",
              "      <td>0.514450</td>\n",
              "      <td>0.169597</td>\n",
              "      <td>0.131778</td>\n",
              "      <td>0.256881</td>\n",
              "      <td>0.468439</td>\n",
              "      <td>0.163820</td>\n",
              "    </tr>\n",
              "    <tr>\n",
              "      <th>1</th>\n",
              "      <td>0.212494</td>\n",
              "      <td>0.618322</td>\n",
              "      <td>0.230769</td>\n",
              "      <td>0.260870</td>\n",
              "      <td>0.250001</td>\n",
              "      <td>0.654887</td>\n",
              "      <td>0.205882</td>\n",
              "      <td>0.584906</td>\n",
              "      <td>0.047879</td>\n",
              "      <td>0.609567</td>\n",
              "      <td>...</td>\n",
              "      <td>0.112672</td>\n",
              "      <td>0.294707</td>\n",
              "      <td>0.008104</td>\n",
              "      <td>0.190583</td>\n",
              "      <td>0.625305</td>\n",
              "      <td>0.140354</td>\n",
              "      <td>0.116855</td>\n",
              "      <td>0.348624</td>\n",
              "      <td>0.631229</td>\n",
              "      <td>0.280832</td>\n",
              "    </tr>\n",
              "    <tr>\n",
              "      <th>2</th>\n",
              "      <td>0.156606</td>\n",
              "      <td>0.569124</td>\n",
              "      <td>0.230769</td>\n",
              "      <td>0.391304</td>\n",
              "      <td>0.250001</td>\n",
              "      <td>0.662172</td>\n",
              "      <td>0.205882</td>\n",
              "      <td>0.578616</td>\n",
              "      <td>0.053049</td>\n",
              "      <td>0.510884</td>\n",
              "      <td>...</td>\n",
              "      <td>0.239436</td>\n",
              "      <td>0.571006</td>\n",
              "      <td>0.006999</td>\n",
              "      <td>0.217489</td>\n",
              "      <td>0.403251</td>\n",
              "      <td>0.169597</td>\n",
              "      <td>0.200694</td>\n",
              "      <td>0.371560</td>\n",
              "      <td>0.617940</td>\n",
              "      <td>0.293626</td>\n",
              "    </tr>\n",
              "    <tr>\n",
              "      <th>3</th>\n",
              "      <td>0.163885</td>\n",
              "      <td>0.532648</td>\n",
              "      <td>0.076923</td>\n",
              "      <td>0.304348</td>\n",
              "      <td>0.281264</td>\n",
              "      <td>0.654887</td>\n",
              "      <td>0.205882</td>\n",
              "      <td>0.584906</td>\n",
              "      <td>0.059346</td>\n",
              "      <td>0.577607</td>\n",
              "      <td>...</td>\n",
              "      <td>0.239436</td>\n",
              "      <td>0.525143</td>\n",
              "      <td>0.008036</td>\n",
              "      <td>0.206278</td>\n",
              "      <td>0.455521</td>\n",
              "      <td>0.163743</td>\n",
              "      <td>0.226079</td>\n",
              "      <td>0.169725</td>\n",
              "      <td>0.551495</td>\n",
              "      <td>0.155790</td>\n",
              "    </tr>\n",
              "    <tr>\n",
              "      <th>4</th>\n",
              "      <td>0.247842</td>\n",
              "      <td>0.617470</td>\n",
              "      <td>0.000000</td>\n",
              "      <td>0.217391</td>\n",
              "      <td>0.250001</td>\n",
              "      <td>0.652415</td>\n",
              "      <td>0.235294</td>\n",
              "      <td>0.587002</td>\n",
              "      <td>0.049054</td>\n",
              "      <td>0.583903</td>\n",
              "      <td>...</td>\n",
              "      <td>0.098591</td>\n",
              "      <td>0.183617</td>\n",
              "      <td>0.008969</td>\n",
              "      <td>0.201794</td>\n",
              "      <td>0.562374</td>\n",
              "      <td>0.105267</td>\n",
              "      <td>0.182200</td>\n",
              "      <td>0.316514</td>\n",
              "      <td>0.521595</td>\n",
              "      <td>0.213729</td>\n",
              "    </tr>\n",
              "  </tbody>\n",
              "</table>\n",
              "<p>5 rows × 30 columns</p>\n",
              "</div>\n",
              "      <button class=\"colab-df-convert\" onclick=\"convertToInteractive('df-d43d4f50-fe51-4363-a21d-5729e352a19e')\"\n",
              "              title=\"Convert this dataframe to an interactive table.\"\n",
              "              style=\"display:none;\">\n",
              "        \n",
              "  <svg xmlns=\"http://www.w3.org/2000/svg\" height=\"24px\"viewBox=\"0 0 24 24\"\n",
              "       width=\"24px\">\n",
              "    <path d=\"M0 0h24v24H0V0z\" fill=\"none\"/>\n",
              "    <path d=\"M18.56 5.44l.94 2.06.94-2.06 2.06-.94-2.06-.94-.94-2.06-.94 2.06-2.06.94zm-11 1L8.5 8.5l.94-2.06 2.06-.94-2.06-.94L8.5 2.5l-.94 2.06-2.06.94zm10 10l.94 2.06.94-2.06 2.06-.94-2.06-.94-.94-2.06-.94 2.06-2.06.94z\"/><path d=\"M17.41 7.96l-1.37-1.37c-.4-.4-.92-.59-1.43-.59-.52 0-1.04.2-1.43.59L10.3 9.45l-7.72 7.72c-.78.78-.78 2.05 0 2.83L4 21.41c.39.39.9.59 1.41.59.51 0 1.02-.2 1.41-.59l7.78-7.78 2.81-2.81c.8-.78.8-2.07 0-2.86zM5.41 20L4 18.59l7.72-7.72 1.47 1.35L5.41 20z\"/>\n",
              "  </svg>\n",
              "      </button>\n",
              "      \n",
              "  <style>\n",
              "    .colab-df-container {\n",
              "      display:flex;\n",
              "      flex-wrap:wrap;\n",
              "      gap: 12px;\n",
              "    }\n",
              "\n",
              "    .colab-df-convert {\n",
              "      background-color: #E8F0FE;\n",
              "      border: none;\n",
              "      border-radius: 50%;\n",
              "      cursor: pointer;\n",
              "      display: none;\n",
              "      fill: #1967D2;\n",
              "      height: 32px;\n",
              "      padding: 0 0 0 0;\n",
              "      width: 32px;\n",
              "    }\n",
              "\n",
              "    .colab-df-convert:hover {\n",
              "      background-color: #E2EBFA;\n",
              "      box-shadow: 0px 1px 2px rgba(60, 64, 67, 0.3), 0px 1px 3px 1px rgba(60, 64, 67, 0.15);\n",
              "      fill: #174EA6;\n",
              "    }\n",
              "\n",
              "    [theme=dark] .colab-df-convert {\n",
              "      background-color: #3B4455;\n",
              "      fill: #D2E3FC;\n",
              "    }\n",
              "\n",
              "    [theme=dark] .colab-df-convert:hover {\n",
              "      background-color: #434B5C;\n",
              "      box-shadow: 0px 1px 3px 1px rgba(0, 0, 0, 0.15);\n",
              "      filter: drop-shadow(0px 1px 2px rgba(0, 0, 0, 0.3));\n",
              "      fill: #FFFFFF;\n",
              "    }\n",
              "  </style>\n",
              "\n",
              "      <script>\n",
              "        const buttonEl =\n",
              "          document.querySelector('#df-d43d4f50-fe51-4363-a21d-5729e352a19e button.colab-df-convert');\n",
              "        buttonEl.style.display =\n",
              "          google.colab.kernel.accessAllowed ? 'block' : 'none';\n",
              "\n",
              "        async function convertToInteractive(key) {\n",
              "          const element = document.querySelector('#df-d43d4f50-fe51-4363-a21d-5729e352a19e');\n",
              "          const dataTable =\n",
              "            await google.colab.kernel.invokeFunction('convertToInteractive',\n",
              "                                                     [key], {});\n",
              "          if (!dataTable) return;\n",
              "\n",
              "          const docLinkHtml = 'Like what you see? Visit the ' +\n",
              "            '<a target=\"_blank\" href=https://colab.research.google.com/notebooks/data_table.ipynb>data table notebook</a>'\n",
              "            + ' to learn more about interactive tables.';\n",
              "          element.innerHTML = '';\n",
              "          dataTable['output_type'] = 'display_data';\n",
              "          await google.colab.output.renderOutput(dataTable, element);\n",
              "          const docLink = document.createElement('div');\n",
              "          docLink.innerHTML = docLinkHtml;\n",
              "          element.appendChild(docLink);\n",
              "        }\n",
              "      </script>\n",
              "    </div>\n",
              "  </div>\n",
              "  "
            ]
          },
          "metadata": {},
          "execution_count": 50
        }
      ]
    },
    {
      "cell_type": "markdown",
      "source": [
        "Submission"
      ],
      "metadata": {
        "id": "qHzLNKW7I5j-"
      }
    },
    {
      "cell_type": "code",
      "source": [
        "#################################\n",
        "#Función auxiliar (NO MODIFICAR):\n",
        "#################################\n",
        "\n",
        "def eval_best_model(final_model, name, dt_valid):\n",
        "\n",
        "    Id_aux = pd.read_csv('heart_valid.csv')\n",
        "\n",
        "    X_valid = dt_valid  \n",
        "    y_valid_pred = final_model.predict(X_valid)\n",
        "    \n",
        "    submission = pd.DataFrame({ 'Id': Id_aux['Id'],\n",
        "                                'VF': y_valid_pred })\n",
        "    submission.to_csv('./submission_'+name+'.csv', index = False)\n",
        "    return(submission)"
      ],
      "metadata": {
        "id": "SHW04OhJI5j-"
      },
      "execution_count": null,
      "outputs": []
    },
    {
      "cell_type": "code",
      "source": [
        "eval_best_model(model_8, 'Juan_model_8_XG_3', dt_valid)"
      ],
      "metadata": {
        "id": "IqIaP-TvI5j-",
        "colab": {
          "base_uri": "https://localhost:8080/",
          "height": 424
        },
        "outputId": "799610cf-79b4-4dd9-c7ab-34db7a271257"
      },
      "execution_count": null,
      "outputs": [
        {
          "output_type": "execute_result",
          "data": {
            "text/plain": [
              "       Id  VF\n",
              "0       4   0\n",
              "1       9   0\n",
              "2      12   0\n",
              "3      18   0\n",
              "4      33   1\n",
              "..    ...  ..\n",
              "948  9287   0\n",
              "949  9293   0\n",
              "950  9313   0\n",
              "951  9316   0\n",
              "952  9342   0\n",
              "\n",
              "[953 rows x 2 columns]"
            ],
            "text/html": [
              "\n",
              "  <div id=\"df-0daf372c-c7ec-40da-bb83-dac0d1b4d455\">\n",
              "    <div class=\"colab-df-container\">\n",
              "      <div>\n",
              "<style scoped>\n",
              "    .dataframe tbody tr th:only-of-type {\n",
              "        vertical-align: middle;\n",
              "    }\n",
              "\n",
              "    .dataframe tbody tr th {\n",
              "        vertical-align: top;\n",
              "    }\n",
              "\n",
              "    .dataframe thead th {\n",
              "        text-align: right;\n",
              "    }\n",
              "</style>\n",
              "<table border=\"1\" class=\"dataframe\">\n",
              "  <thead>\n",
              "    <tr style=\"text-align: right;\">\n",
              "      <th></th>\n",
              "      <th>Id</th>\n",
              "      <th>VF</th>\n",
              "    </tr>\n",
              "  </thead>\n",
              "  <tbody>\n",
              "    <tr>\n",
              "      <th>0</th>\n",
              "      <td>4</td>\n",
              "      <td>0</td>\n",
              "    </tr>\n",
              "    <tr>\n",
              "      <th>1</th>\n",
              "      <td>9</td>\n",
              "      <td>0</td>\n",
              "    </tr>\n",
              "    <tr>\n",
              "      <th>2</th>\n",
              "      <td>12</td>\n",
              "      <td>0</td>\n",
              "    </tr>\n",
              "    <tr>\n",
              "      <th>3</th>\n",
              "      <td>18</td>\n",
              "      <td>0</td>\n",
              "    </tr>\n",
              "    <tr>\n",
              "      <th>4</th>\n",
              "      <td>33</td>\n",
              "      <td>1</td>\n",
              "    </tr>\n",
              "    <tr>\n",
              "      <th>...</th>\n",
              "      <td>...</td>\n",
              "      <td>...</td>\n",
              "    </tr>\n",
              "    <tr>\n",
              "      <th>948</th>\n",
              "      <td>9287</td>\n",
              "      <td>0</td>\n",
              "    </tr>\n",
              "    <tr>\n",
              "      <th>949</th>\n",
              "      <td>9293</td>\n",
              "      <td>0</td>\n",
              "    </tr>\n",
              "    <tr>\n",
              "      <th>950</th>\n",
              "      <td>9313</td>\n",
              "      <td>0</td>\n",
              "    </tr>\n",
              "    <tr>\n",
              "      <th>951</th>\n",
              "      <td>9316</td>\n",
              "      <td>0</td>\n",
              "    </tr>\n",
              "    <tr>\n",
              "      <th>952</th>\n",
              "      <td>9342</td>\n",
              "      <td>0</td>\n",
              "    </tr>\n",
              "  </tbody>\n",
              "</table>\n",
              "<p>953 rows × 2 columns</p>\n",
              "</div>\n",
              "      <button class=\"colab-df-convert\" onclick=\"convertToInteractive('df-0daf372c-c7ec-40da-bb83-dac0d1b4d455')\"\n",
              "              title=\"Convert this dataframe to an interactive table.\"\n",
              "              style=\"display:none;\">\n",
              "        \n",
              "  <svg xmlns=\"http://www.w3.org/2000/svg\" height=\"24px\"viewBox=\"0 0 24 24\"\n",
              "       width=\"24px\">\n",
              "    <path d=\"M0 0h24v24H0V0z\" fill=\"none\"/>\n",
              "    <path d=\"M18.56 5.44l.94 2.06.94-2.06 2.06-.94-2.06-.94-.94-2.06-.94 2.06-2.06.94zm-11 1L8.5 8.5l.94-2.06 2.06-.94-2.06-.94L8.5 2.5l-.94 2.06-2.06.94zm10 10l.94 2.06.94-2.06 2.06-.94-2.06-.94-.94-2.06-.94 2.06-2.06.94z\"/><path d=\"M17.41 7.96l-1.37-1.37c-.4-.4-.92-.59-1.43-.59-.52 0-1.04.2-1.43.59L10.3 9.45l-7.72 7.72c-.78.78-.78 2.05 0 2.83L4 21.41c.39.39.9.59 1.41.59.51 0 1.02-.2 1.41-.59l7.78-7.78 2.81-2.81c.8-.78.8-2.07 0-2.86zM5.41 20L4 18.59l7.72-7.72 1.47 1.35L5.41 20z\"/>\n",
              "  </svg>\n",
              "      </button>\n",
              "      \n",
              "  <style>\n",
              "    .colab-df-container {\n",
              "      display:flex;\n",
              "      flex-wrap:wrap;\n",
              "      gap: 12px;\n",
              "    }\n",
              "\n",
              "    .colab-df-convert {\n",
              "      background-color: #E8F0FE;\n",
              "      border: none;\n",
              "      border-radius: 50%;\n",
              "      cursor: pointer;\n",
              "      display: none;\n",
              "      fill: #1967D2;\n",
              "      height: 32px;\n",
              "      padding: 0 0 0 0;\n",
              "      width: 32px;\n",
              "    }\n",
              "\n",
              "    .colab-df-convert:hover {\n",
              "      background-color: #E2EBFA;\n",
              "      box-shadow: 0px 1px 2px rgba(60, 64, 67, 0.3), 0px 1px 3px 1px rgba(60, 64, 67, 0.15);\n",
              "      fill: #174EA6;\n",
              "    }\n",
              "\n",
              "    [theme=dark] .colab-df-convert {\n",
              "      background-color: #3B4455;\n",
              "      fill: #D2E3FC;\n",
              "    }\n",
              "\n",
              "    [theme=dark] .colab-df-convert:hover {\n",
              "      background-color: #434B5C;\n",
              "      box-shadow: 0px 1px 3px 1px rgba(0, 0, 0, 0.15);\n",
              "      filter: drop-shadow(0px 1px 2px rgba(0, 0, 0, 0.3));\n",
              "      fill: #FFFFFF;\n",
              "    }\n",
              "  </style>\n",
              "\n",
              "      <script>\n",
              "        const buttonEl =\n",
              "          document.querySelector('#df-0daf372c-c7ec-40da-bb83-dac0d1b4d455 button.colab-df-convert');\n",
              "        buttonEl.style.display =\n",
              "          google.colab.kernel.accessAllowed ? 'block' : 'none';\n",
              "\n",
              "        async function convertToInteractive(key) {\n",
              "          const element = document.querySelector('#df-0daf372c-c7ec-40da-bb83-dac0d1b4d455');\n",
              "          const dataTable =\n",
              "            await google.colab.kernel.invokeFunction('convertToInteractive',\n",
              "                                                     [key], {});\n",
              "          if (!dataTable) return;\n",
              "\n",
              "          const docLinkHtml = 'Like what you see? Visit the ' +\n",
              "            '<a target=\"_blank\" href=https://colab.research.google.com/notebooks/data_table.ipynb>data table notebook</a>'\n",
              "            + ' to learn more about interactive tables.';\n",
              "          element.innerHTML = '';\n",
              "          dataTable['output_type'] = 'display_data';\n",
              "          await google.colab.output.renderOutput(dataTable, element);\n",
              "          const docLink = document.createElement('div');\n",
              "          docLink.innerHTML = docLinkHtml;\n",
              "          element.appendChild(docLink);\n",
              "        }\n",
              "      </script>\n",
              "    </div>\n",
              "  </div>\n",
              "  "
            ]
          },
          "metadata": {},
          "execution_count": 52
        }
      ]
    }
  ]
}